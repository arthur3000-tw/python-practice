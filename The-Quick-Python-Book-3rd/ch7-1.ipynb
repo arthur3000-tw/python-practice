{
 "cells": [
  {
   "cell_type": "markdown",
   "id": "5004ba60",
   "metadata": {},
   "source": [
    "什麼是字典？\n",
    "===\n",
    "字典是以『鍵：值』成對的方式儲存，我們可以用鍵（key）來查詢對應的值（value）\n",
    "\n",
    "{key1: value1, key2: value2, ...}"
   ]
  },
  {
   "cell_type": "code",
   "execution_count": null,
   "id": "f490da3c",
   "metadata": {},
   "outputs": [
    {
     "data": {
      "text/plain": [
       "13"
      ]
     },
     "execution_count": 1,
     "metadata": {},
     "output_type": "execute_result"
    }
   ],
   "source": [
    "ages = {\"Mary\":13, \"John\":14, \"Tony\":13}\n",
    "# 取值\n",
    "ages[\"Mary\"]"
   ]
  },
  {
   "cell_type": "code",
   "execution_count": 2,
   "id": "6ed0e9e7",
   "metadata": {},
   "outputs": [
    {
     "data": {
      "text/plain": [
       "{'Mary': 13, 'John': 14, 'Tony': 13, 'Peter': 12}"
      ]
     },
     "execution_count": 2,
     "metadata": {},
     "output_type": "execute_result"
    }
   ],
   "source": [
    "# 新增一筆資料\n",
    "ages[\"Peter\"] = 12\n",
    "ages"
   ]
  },
  {
   "cell_type": "code",
   "execution_count": 3,
   "id": "bb2a91f1",
   "metadata": {},
   "outputs": [],
   "source": [
    "# 空的 list\n",
    "x = []\n",
    "# 空的字典\n",
    "y = {}"
   ]
  },
  {
   "cell_type": "code",
   "execution_count": 4,
   "id": "1dc8bef9",
   "metadata": {},
   "outputs": [],
   "source": [
    "y[0] = \"Hello\"\n",
    "y[1] = \"Goodbye\""
   ]
  },
  {
   "cell_type": "code",
   "execution_count": 5,
   "id": "aae4dff0",
   "metadata": {},
   "outputs": [
    {
     "ename": "IndexError",
     "evalue": "list assignment index out of range",
     "output_type": "error",
     "traceback": [
      "\u001b[31m---------------------------------------------------------------------------\u001b[39m",
      "\u001b[31mIndexError\u001b[39m                                Traceback (most recent call last)",
      "\u001b[36mCell\u001b[39m\u001b[36m \u001b[39m\u001b[32mIn[5]\u001b[39m\u001b[32m, line 1\u001b[39m\n\u001b[32m----> \u001b[39m\u001b[32m1\u001b[39m \u001b[43mx\u001b[49m\u001b[43m[\u001b[49m\u001b[32;43m0\u001b[39;49m\u001b[43m]\u001b[49m = \u001b[33m\"\u001b[39m\u001b[33mHello\u001b[39m\u001b[33m\"\u001b[39m\n",
      "\u001b[31mIndexError\u001b[39m: list assignment index out of range"
     ]
    }
   ],
   "source": [
    "x[0] = \"Hello\""
   ]
  },
  {
   "cell_type": "code",
   "execution_count": 6,
   "id": "ec30ea4a",
   "metadata": {},
   "outputs": [
    {
     "name": "stdout",
     "output_type": "stream",
     "text": [
      "Hello\n"
     ]
    },
    {
     "data": {
      "text/plain": [
       "'Goodbye, Friend.'"
      ]
     },
     "execution_count": 6,
     "metadata": {},
     "output_type": "execute_result"
    }
   ],
   "source": [
    "print(y[0])\n",
    "y[1] + \", Friend.\""
   ]
  },
  {
   "cell_type": "code",
   "execution_count": 7,
   "id": "cc61500e",
   "metadata": {},
   "outputs": [
    {
     "data": {
      "text/plain": [
       "6.28"
      ]
     },
     "execution_count": 7,
     "metadata": {},
     "output_type": "execute_result"
    }
   ],
   "source": [
    "# 建立 \"two\":\"two\" 鍵值對\n",
    "y[\"two\"] = \"two\"\n",
    "# 修改鍵為 \"two\" 的值為 2\n",
    "y[\"two\"] = 2\n",
    "y[\"pi\"] = 3.14\n",
    "y[\"two\"] * y[\"pi\"]"
   ]
  }
 ],
 "metadata": {
  "kernelspec": {
   "display_name": "python-practice",
   "language": "python",
   "name": "python3"
  },
  "language_info": {
   "codemirror_mode": {
    "name": "ipython",
    "version": 3
   },
   "file_extension": ".py",
   "mimetype": "text/x-python",
   "name": "python",
   "nbconvert_exporter": "python",
   "pygments_lexer": "ipython3",
   "version": "3.12.3"
  }
 },
 "nbformat": 4,
 "nbformat_minor": 5
}
