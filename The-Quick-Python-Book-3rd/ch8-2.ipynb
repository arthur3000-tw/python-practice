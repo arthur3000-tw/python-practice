{
 "cells": [
  {
   "cell_type": "markdown",
   "id": "26ef45b6",
   "metadata": {},
   "source": [
    "if-elif-else 判斷式\n",
    "===\n",
    "```python\n",
    "if 條件式1:\n",
    "    程式區塊1\n",
    "elif 條件式2:\n",
    "    程式區塊2\n",
    "elif 條件式3:\n",
    "    程式區塊3\n",
    "...\n",
    "...\n",
    "elif 條件式(n-1):\n",
    "    程式區塊(n-1)\n",
    "else:\n",
    "    程式區塊n\n",
    "```"
   ]
  },
  {
   "cell_type": "markdown",
   "id": "e72d6085",
   "metadata": {},
   "source": [
    "實際狀況中，常撰寫以下程式：\n",
    "```python\n",
    "if n > 100:\n",
    "    result = \"success\"\n",
    "else:\n",
    "    result = \"failed\"\n",
    "```\n",
    "可以改為以下單行的 if 條件運算式：\n",
    "```python\n",
    "result = \"success\" if n > 100 else \"failed\"\n",
    "```"
   ]
  }
 ],
 "metadata": {
  "language_info": {
   "name": "python"
  }
 },
 "nbformat": 4,
 "nbformat_minor": 5
}
