{
 "cells": [
  {
   "cell_type": "markdown",
   "id": "f0fb548c",
   "metadata": {},
   "source": [
    "字典應用範例：數字統計\n",
    "==="
   ]
  },
  {
   "cell_type": "code",
   "execution_count": 1,
   "id": "899e3a6a",
   "metadata": {},
   "outputs": [
    {
     "name": "stdout",
     "output_type": "stream",
     "text": [
      "The word To occurs 1 times in the string\n",
      "The word be occurs 2 times in the string\n",
      "The word or occurs 1 times in the string\n",
      "The word not occurs 1 times in the string\n",
      "The word to occurs 1 times in the string\n"
     ]
    }
   ],
   "source": [
    "sample_string = \"To be or not to be\"\n",
    "occurrences = {}\n",
    "for word in sample_string.split():\n",
    "    occurrences[word] = occurrences.get(word,0) + 1\n",
    "for word in occurrences:\n",
    "    print(\"The word\", word, \"occurs\", occurrences[word], \"times in the string\")"
   ]
  }
 ],
 "metadata": {
  "kernelspec": {
   "display_name": "python-practice",
   "language": "python",
   "name": "python3"
  },
  "language_info": {
   "codemirror_mode": {
    "name": "ipython",
    "version": 3
   },
   "file_extension": ".py",
   "mimetype": "text/x-python",
   "name": "python",
   "nbconvert_exporter": "python",
   "pygments_lexer": "ipython3",
   "version": "3.12.3"
  }
 },
 "nbformat": 4,
 "nbformat_minor": 5
}
