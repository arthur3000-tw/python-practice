{
 "cells": [
  {
   "cell_type": "markdown",
   "id": "055bdd17",
   "metadata": {},
   "source": [
    "以字典作為快取\n",
    "==="
   ]
  },
  {
   "cell_type": "code",
   "execution_count": 1,
   "id": "b6b2113b",
   "metadata": {},
   "outputs": [],
   "source": [
    "def sole(m, n, t):\n",
    "    # 將 m, n, t 進行一些計算\n",
    "    return result"
   ]
  },
  {
   "cell_type": "code",
   "execution_count": 2,
   "id": "fab9d9f6",
   "metadata": {},
   "outputs": [],
   "source": [
    "sole_cache = {}\n",
    "def sole(m, n, t):\n",
    "    if (m, n, t) in sole_cache:\n",
    "        return sole_cache[(m, n, t)]\n",
    "    else:\n",
    "        # 否則對 m, n, t 進行一些計算 ...\n",
    "        # 將結果存到字典中\n",
    "        sole_cache[(m, n, t)] = result\n",
    "        return result"
   ]
  }
 ],
 "metadata": {
  "kernelspec": {
   "display_name": "python-practice",
   "language": "python",
   "name": "python3"
  },
  "language_info": {
   "codemirror_mode": {
    "name": "ipython",
    "version": 3
   },
   "file_extension": ".py",
   "mimetype": "text/x-python",
   "name": "python",
   "nbconvert_exporter": "python",
   "pygments_lexer": "ipython3",
   "version": "3.12.3"
  }
 },
 "nbformat": 4,
 "nbformat_minor": 5
}
