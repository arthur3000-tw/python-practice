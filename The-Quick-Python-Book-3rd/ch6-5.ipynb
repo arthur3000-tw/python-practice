{
 "cells": [
  {
   "cell_type": "markdown",
   "id": "fdbc5c29",
   "metadata": {},
   "source": [
    "字串的搜尋\n",
    "==="
   ]
  },
  {
   "cell_type": "code",
   "execution_count": 1,
   "id": "e37f4dd6",
   "metadata": {},
   "outputs": [
    {
     "data": {
      "text/plain": [
       "True"
      ]
     },
     "execution_count": 1,
     "metadata": {},
     "output_type": "execute_result"
    }
   ],
   "source": [
    "x = \"The string\"\n",
    "\"str\" in x"
   ]
  },
  {
   "cell_type": "code",
   "execution_count": 2,
   "id": "be4c2d36",
   "metadata": {},
   "outputs": [
    {
     "data": {
      "text/plain": [
       "False"
      ]
     },
     "execution_count": 2,
     "metadata": {},
     "output_type": "execute_result"
    }
   ],
   "source": [
    "\"sTr\" in x"
   ]
  },
  {
   "cell_type": "code",
   "execution_count": 3,
   "id": "53a7b5ab",
   "metadata": {},
   "outputs": [
    {
     "data": {
      "text/plain": [
       "True"
      ]
     },
     "execution_count": 3,
     "metadata": {},
     "output_type": "execute_result"
    }
   ],
   "source": [
    "\"e s\" in x"
   ]
  },
  {
   "cell_type": "markdown",
   "id": "acc5cd73",
   "metadata": {},
   "source": [
    "find()\n",
    "\n",
    "會回傳要搜索文字的第一個字元所在的索引位置"
   ]
  },
  {
   "cell_type": "code",
   "execution_count": 4,
   "id": "12451386",
   "metadata": {},
   "outputs": [
    {
     "data": {
      "text/plain": [
       "1"
      ]
     },
     "execution_count": 4,
     "metadata": {},
     "output_type": "execute_result"
    }
   ],
   "source": [
    "x = \"Mississippi\"\n",
    "x.find(\"is\")"
   ]
  },
  {
   "cell_type": "code",
   "execution_count": 5,
   "id": "bf44fc78",
   "metadata": {},
   "outputs": [
    {
     "data": {
      "text/plain": [
       "-1"
      ]
     },
     "execution_count": 5,
     "metadata": {},
     "output_type": "execute_result"
    }
   ],
   "source": [
    "x.find(\"zz\")"
   ]
  },
  {
   "cell_type": "markdown",
   "id": "291bca8f",
   "metadata": {},
   "source": [
    "find(string, start, end)\n",
    "\n",
    "start 代表要從字串的哪一個索引位置開始\n",
    "\n",
    "end 代表要從字串的哪一個索引位置之前停止"
   ]
  },
  {
   "cell_type": "code",
   "execution_count": 6,
   "id": "96a06e3d",
   "metadata": {},
   "outputs": [
    {
     "data": {
      "text/plain": [
       "2"
      ]
     },
     "execution_count": 6,
     "metadata": {},
     "output_type": "execute_result"
    }
   ],
   "source": [
    "x = \"Mississippi\"\n",
    "x.find(\"s\")"
   ]
  },
  {
   "cell_type": "code",
   "execution_count": null,
   "id": "d126ddc0",
   "metadata": {},
   "outputs": [
    {
     "data": {
      "text/plain": [
       "2"
      ]
     },
     "execution_count": 7,
     "metadata": {},
     "output_type": "execute_result"
    }
   ],
   "source": [
    "x.find(\"s\", 2)"
   ]
  },
  {
   "cell_type": "code",
   "execution_count": null,
   "id": "748576d9",
   "metadata": {},
   "outputs": [
    {
     "data": {
      "text/plain": [
       "5"
      ]
     },
     "execution_count": 8,
     "metadata": {},
     "output_type": "execute_result"
    }
   ],
   "source": [
    "x.find(\"s\", 4)"
   ]
  },
  {
   "cell_type": "code",
   "execution_count": null,
   "id": "6e6f1211",
   "metadata": {},
   "outputs": [
    {
     "data": {
      "text/plain": [
       "-1"
      ]
     },
     "execution_count": 9,
     "metadata": {},
     "output_type": "execute_result"
    }
   ],
   "source": [
    "x.find(\"s\", 4, 5)"
   ]
  },
  {
   "cell_type": "code",
   "execution_count": null,
   "id": "d0532658",
   "metadata": {},
   "outputs": [
    {
     "data": {
      "text/plain": [
       "5"
      ]
     },
     "execution_count": 10,
     "metadata": {},
     "output_type": "execute_result"
    }
   ],
   "source": [
    "x.find(\"ss\", 3)"
   ]
  },
  {
   "cell_type": "code",
   "execution_count": 11,
   "id": "916cb180",
   "metadata": {},
   "outputs": [
    {
     "data": {
      "text/plain": [
       "-1"
      ]
     },
     "execution_count": 11,
     "metadata": {},
     "output_type": "execute_result"
    }
   ],
   "source": [
    "x.find(\"ss\", 0, 3)"
   ]
  },
  {
   "cell_type": "markdown",
   "id": "1bb0ed1e",
   "metadata": {},
   "source": [
    "rfind() 跟 find() 幾乎一樣，只是方向是相反的"
   ]
  },
  {
   "cell_type": "code",
   "execution_count": 12,
   "id": "352d4f0b",
   "metadata": {},
   "outputs": [
    {
     "data": {
      "text/plain": [
       "5"
      ]
     },
     "execution_count": 12,
     "metadata": {},
     "output_type": "execute_result"
    }
   ],
   "source": [
    "x = \"Mississippi\"\n",
    "x.rfind(\"ss\")"
   ]
  },
  {
   "cell_type": "markdown",
   "id": "8c3e483e",
   "metadata": {},
   "source": [
    "index() 與 rindex() 分別與 find() 和 rfind() 相同\n",
    "\n",
    "只是當 index() 或 rindex() 找不到文字時，不會回傳 -1\n",
    "\n",
    "而是引發 ValueError 例外錯誤"
   ]
  },
  {
   "cell_type": "markdown",
   "id": "40fd0349",
   "metadata": {},
   "source": [
    "count()\n",
    "\n",
    "可以統計特定文字在字串中出現了幾次"
   ]
  },
  {
   "cell_type": "code",
   "execution_count": 13,
   "id": "fe078b49",
   "metadata": {},
   "outputs": [
    {
     "data": {
      "text/plain": [
       "2"
      ]
     },
     "execution_count": 13,
     "metadata": {},
     "output_type": "execute_result"
    }
   ],
   "source": [
    "x = \"Mississippi\"\n",
    "x.count(\"ss\")"
   ]
  },
  {
   "cell_type": "markdown",
   "id": "0bca2ab8",
   "metadata": {},
   "source": [
    "startswith() endswith()\n",
    "\n",
    "可以用 startswith() 和 endswith() 來搜索字串是否以特定文字開頭或結尾"
   ]
  },
  {
   "cell_type": "code",
   "execution_count": 14,
   "id": "78c97523",
   "metadata": {},
   "outputs": [
    {
     "data": {
      "text/plain": [
       "True"
      ]
     },
     "execution_count": 14,
     "metadata": {},
     "output_type": "execute_result"
    }
   ],
   "source": [
    "x = \"Mississippi\"\n",
    "x.startswith(\"Miss\")"
   ]
  },
  {
   "cell_type": "code",
   "execution_count": 15,
   "id": "8f4a0426",
   "metadata": {},
   "outputs": [
    {
     "data": {
      "text/plain": [
       "False"
      ]
     },
     "execution_count": 15,
     "metadata": {},
     "output_type": "execute_result"
    }
   ],
   "source": [
    "x.startswith(\"Mist\")"
   ]
  },
  {
   "cell_type": "code",
   "execution_count": 16,
   "id": "2e621a23",
   "metadata": {},
   "outputs": [
    {
     "data": {
      "text/plain": [
       "True"
      ]
     },
     "execution_count": 16,
     "metadata": {},
     "output_type": "execute_result"
    }
   ],
   "source": [
    "x.endswith(\"pi\")"
   ]
  },
  {
   "cell_type": "code",
   "execution_count": 17,
   "id": "5c08b743",
   "metadata": {},
   "outputs": [
    {
     "data": {
      "text/plain": [
       "False"
      ]
     },
     "execution_count": 17,
     "metadata": {},
     "output_type": "execute_result"
    }
   ],
   "source": [
    "x.endswith(\"p\")"
   ]
  },
  {
   "cell_type": "code",
   "execution_count": 18,
   "id": "414356db",
   "metadata": {},
   "outputs": [
    {
     "data": {
      "text/plain": [
       "True"
      ]
     },
     "execution_count": 18,
     "metadata": {},
     "output_type": "execute_result"
    }
   ],
   "source": [
    "# 字串是否以 \"i\" 或是 \"u\" 結尾\n",
    "x.endswith((\"i\", \"u\"))"
   ]
  }
 ],
 "metadata": {
  "kernelspec": {
   "display_name": "python-practice",
   "language": "python",
   "name": "python3"
  },
  "language_info": {
   "codemirror_mode": {
    "name": "ipython",
    "version": 3
   },
   "file_extension": ".py",
   "mimetype": "text/x-python",
   "name": "python",
   "nbconvert_exporter": "python",
   "pygments_lexer": "ipython3",
   "version": "3.12.3"
  }
 },
 "nbformat": 4,
 "nbformat_minor": 5
}
