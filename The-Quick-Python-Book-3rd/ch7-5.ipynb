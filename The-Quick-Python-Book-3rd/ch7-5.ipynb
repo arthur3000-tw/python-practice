{
 "cells": [
  {
   "cell_type": "markdown",
   "id": "5d792cda",
   "metadata": {},
   "source": [
    "稀疏矩陣\n",
    "==="
   ]
  },
  {
   "cell_type": "code",
   "execution_count": null,
   "id": "79e998fc",
   "metadata": {},
   "outputs": [],
   "source": [
    "matrix_list = [[3, 0, -2, 11], [0, 9, 0, 0], [0, 7, 0, 0], [0, 0, 0, -5]]"
   ]
  },
  {
   "cell_type": "code",
   "execution_count": 2,
   "id": "72dabaa8",
   "metadata": {},
   "outputs": [],
   "source": [
    "matrix_dict = {(0,0): 3, (0,2): -2, (0, 3): 11, (1,1): 9, (2,1): 7, (3,3): -5}\n",
    "\n",
    "rownum = 0\n",
    "colnum = 0\n",
    "\n",
    "if (rownum, colnum) in matrix_dict:\n",
    "    element = matrix_dict[(rownum, colnum)]\n",
    "else:\n",
    "    element = 0\n",
    "\n",
    "element = matrix_dict.get((rownum,colnum), 0)"
   ]
  }
 ],
 "metadata": {
  "kernelspec": {
   "display_name": "python-practice",
   "language": "python",
   "name": "python3"
  },
  "language_info": {
   "codemirror_mode": {
    "name": "ipython",
    "version": 3
   },
   "file_extension": ".py",
   "mimetype": "text/x-python",
   "name": "python",
   "nbconvert_exporter": "python",
   "pygments_lexer": "ipython3",
   "version": "3.12.3"
  }
 },
 "nbformat": 4,
 "nbformat_minor": 5
}
