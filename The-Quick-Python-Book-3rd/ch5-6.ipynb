{
 "cells": [
  {
   "cell_type": "markdown",
   "id": "740b95f0",
   "metadata": {},
   "source": [
    "多層 list 和深層拷貝（deep copy）\n",
    "==="
   ]
  },
  {
   "cell_type": "code",
   "execution_count": 1,
   "id": "1662e888",
   "metadata": {},
   "outputs": [
    {
     "data": {
      "text/plain": [
       "[[0], 1]"
      ]
     },
     "execution_count": 1,
     "metadata": {},
     "output_type": "execute_result"
    }
   ],
   "source": [
    "nested = [0]\n",
    "original = [nested, 1]\n",
    "original"
   ]
  },
  {
   "cell_type": "markdown",
   "id": "8e2c4b6a",
   "metadata": {},
   "source": [
    "```mermaid\n",
    "graph LR\n",
    "\n",
    "A[nested] --> B[\"[0]\"]\n",
    "C[original] --> D[\"[,1]\"]\n",
    "D --> B\n",
    "\n",
    "style B stroke-dasharray: 5 5\n",
    "style D stroke-dasharray: 5 5\n",
    "```"
   ]
  },
  {
   "cell_type": "code",
   "execution_count": 2,
   "id": "4c22664b",
   "metadata": {},
   "outputs": [
    {
     "data": {
      "text/plain": [
       "[['zero'], 1]"
      ]
     },
     "execution_count": 2,
     "metadata": {},
     "output_type": "execute_result"
    }
   ],
   "source": [
    "nested[0] = \"zero\"\n",
    "original"
   ]
  },
  {
   "cell_type": "code",
   "execution_count": 3,
   "id": "2d126988",
   "metadata": {},
   "outputs": [
    {
     "data": {
      "text/plain": [
       "[0]"
      ]
     },
     "execution_count": 3,
     "metadata": {},
     "output_type": "execute_result"
    }
   ],
   "source": [
    "original[0][0] = 0\n",
    "nested"
   ]
  },
  {
   "cell_type": "code",
   "execution_count": 4,
   "id": "e7276dd4",
   "metadata": {},
   "outputs": [
    {
     "data": {
      "text/plain": [
       "[[0], 1]"
      ]
     },
     "execution_count": 4,
     "metadata": {},
     "output_type": "execute_result"
    }
   ],
   "source": [
    "original"
   ]
  },
  {
   "cell_type": "markdown",
   "id": "004f8735",
   "metadata": {},
   "source": [
    "```mermaid\n",
    "graph LR\n",
    "\n",
    "A[nested] -.->|X| B[\"[0]\"]\n",
    "C[original] --> D[\"[,1]\"]\n",
    "D --> B\n",
    "A[nested] --> E[\"[2]\"]\n",
    "\n",
    "style B stroke-dasharray: 5 5\n",
    "style D stroke-dasharray: 5 5\n",
    "```"
   ]
  },
  {
   "cell_type": "code",
   "execution_count": 5,
   "id": "98022205",
   "metadata": {},
   "outputs": [
    {
     "data": {
      "text/plain": [
       "[[0], 1]"
      ]
     },
     "execution_count": 5,
     "metadata": {},
     "output_type": "execute_result"
    }
   ],
   "source": [
    "nested = [2]\n",
    "original"
   ]
  },
  {
   "cell_type": "markdown",
   "id": "48f63b0a",
   "metadata": {},
   "source": [
    "深層拷貝：deepcopy()\n",
    "\n",
    "```mermaid\n",
    "graph LR\n",
    "\n",
    "A[original] --> B[\"[,1]\"]\n",
    "B --> C[\"[0]\"]\n",
    "D[shallow] --> E[\"[,1]\"]\n",
    "E --> C\n",
    "F[deep] --> G[\"[,1]\"]\n",
    "G --> H[\"[0]\"]\n",
    "\n",
    "style B stroke-dasharray: 5 5\n",
    "style C stroke-dasharray: 5 5\n",
    "style E stroke-dasharray: 5 5\n",
    "style G stroke-dasharray: 5 5\n",
    "style H stroke-dasharray: 5 5\n",
    "```"
   ]
  },
  {
   "cell_type": "code",
   "execution_count": 6,
   "id": "37c45cea",
   "metadata": {},
   "outputs": [],
   "source": [
    "original = [[0], 1]\n",
    "shallow = original [:]\n",
    "# 載入 copy 模組\n",
    "import copy\n",
    "# 使用 copy 模組的 deepcopy() 函式，而不是 copy 物件的 deepcopy 方法\n",
    "deep = copy.deepcopy(original)"
   ]
  },
  {
   "cell_type": "code",
   "execution_count": 7,
   "id": "e1b5fad4",
   "metadata": {},
   "outputs": [
    {
     "data": {
      "text/plain": [
       "[[0], 2]"
      ]
     },
     "execution_count": 7,
     "metadata": {},
     "output_type": "execute_result"
    }
   ],
   "source": [
    "shallow[1] = 2\n",
    "shallow"
   ]
  },
  {
   "cell_type": "code",
   "execution_count": 8,
   "id": "40e14ec3",
   "metadata": {},
   "outputs": [
    {
     "data": {
      "text/plain": [
       "[[0], 1]"
      ]
     },
     "execution_count": 8,
     "metadata": {},
     "output_type": "execute_result"
    }
   ],
   "source": [
    "original"
   ]
  },
  {
   "cell_type": "code",
   "execution_count": 9,
   "id": "d253dffa",
   "metadata": {},
   "outputs": [
    {
     "data": {
      "text/plain": [
       "[['zero'], 2]"
      ]
     },
     "execution_count": 9,
     "metadata": {},
     "output_type": "execute_result"
    }
   ],
   "source": [
    "shallow[0][0] = \"zero\"\n",
    "shallow"
   ]
  },
  {
   "cell_type": "code",
   "execution_count": 10,
   "id": "555fb6dc",
   "metadata": {},
   "outputs": [
    {
     "data": {
      "text/plain": [
       "[['zero'], 1]"
      ]
     },
     "execution_count": 10,
     "metadata": {},
     "output_type": "execute_result"
    }
   ],
   "source": [
    "original"
   ]
  },
  {
   "cell_type": "code",
   "execution_count": 11,
   "id": "74e09ccf",
   "metadata": {},
   "outputs": [
    {
     "data": {
      "text/plain": [
       "[[5], 1]"
      ]
     },
     "execution_count": 11,
     "metadata": {},
     "output_type": "execute_result"
    }
   ],
   "source": [
    "deep[0][0] = 5\n",
    "deep"
   ]
  },
  {
   "cell_type": "code",
   "execution_count": 12,
   "id": "027bbda1",
   "metadata": {},
   "outputs": [
    {
     "data": {
      "text/plain": [
       "[['zero'], 1]"
      ]
     },
     "execution_count": 12,
     "metadata": {},
     "output_type": "execute_result"
    }
   ],
   "source": [
    "original"
   ]
  }
 ],
 "metadata": {
  "kernelspec": {
   "display_name": "python-practice",
   "language": "python",
   "name": "python3"
  },
  "language_info": {
   "codemirror_mode": {
    "name": "ipython",
    "version": 3
   },
   "file_extension": ".py",
   "mimetype": "text/x-python",
   "name": "python",
   "nbconvert_exporter": "python",
   "pygments_lexer": "ipython3",
   "version": "3.12.3"
  }
 },
 "nbformat": 4,
 "nbformat_minor": 5
}
