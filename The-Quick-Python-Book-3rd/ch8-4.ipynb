{
 "cells": [
  {
   "cell_type": "markdown",
   "id": "f14026f8",
   "metadata": {},
   "source": [
    "生成式 Comprehension 和產生器 Generator\n",
    "==="
   ]
  },
  {
   "cell_type": "code",
   "execution_count": 1,
   "id": "a59b52a5",
   "metadata": {},
   "outputs": [
    {
     "data": {
      "text/plain": [
       "[1, 4, 9, 16]"
      ]
     },
     "execution_count": 1,
     "metadata": {},
     "output_type": "execute_result"
    }
   ],
   "source": [
    "x = [1, 2, 3, 4]\n",
    "x_squared = []\n",
    "for item in x:\n",
    "    x_squared.append(item * item)\n",
    "x_squared"
   ]
  },
  {
   "cell_type": "markdown",
   "id": "d9fc9650",
   "metadata": {},
   "source": [
    "生成式（Comprehension）"
   ]
  },
  {
   "cell_type": "markdown",
   "id": "35b7f9de",
   "metadata": {},
   "source": [
    "list 生成式\n",
    "```python\n",
    "new_list = [運算式 for 變數 in 原有 list if 條件式]\n",
    "```"
   ]
  },
  {
   "cell_type": "code",
   "execution_count": 2,
   "id": "87a42ea8",
   "metadata": {},
   "outputs": [
    {
     "data": {
      "text/plain": [
       "[1, 4, 9, 16]"
      ]
     },
     "execution_count": 2,
     "metadata": {},
     "output_type": "execute_result"
    }
   ],
   "source": [
    "x = [1, 2, 3, 4]\n",
    "x_squared = [item * item for item in x]\n",
    "x_squared"
   ]
  },
  {
   "cell_type": "markdown",
   "id": "68940a21",
   "metadata": {},
   "source": [
    "dict 生成式\n",
    "```python\n",
    "new_dict = {運算式1:運算式2 for 變數 in 原有 list if 條件式}\n",
    "```"
   ]
  },
  {
   "cell_type": "code",
   "execution_count": 3,
   "id": "27ca414f",
   "metadata": {},
   "outputs": [
    {
     "data": {
      "text/plain": [
       "{1: 1, 2: 4, 3: 9, 4: 16}"
      ]
     },
     "execution_count": 3,
     "metadata": {},
     "output_type": "execute_result"
    }
   ],
   "source": [
    "x = [1, 2, 3, 4]\n",
    "x_squared_dict = {item: item * item for item in x}\n",
    "x_squared_dict"
   ]
  },
  {
   "cell_type": "markdown",
   "id": "57fa3298",
   "metadata": {},
   "source": [
    "產生器（Generator）"
   ]
  },
  {
   "cell_type": "code",
   "execution_count": 4,
   "id": "ae47bf09",
   "metadata": {},
   "outputs": [
    {
     "data": {
      "text/plain": [
       "<generator object <genexpr> at 0x11087e810>"
      ]
     },
     "execution_count": 4,
     "metadata": {},
     "output_type": "execute_result"
    }
   ],
   "source": [
    "x = [1, 2, 3, 4]\n",
    "x_squared = (item * item for item in x)\n",
    "x_squared"
   ]
  },
  {
   "cell_type": "code",
   "execution_count": 5,
   "id": "165fa7a9",
   "metadata": {},
   "outputs": [
    {
     "name": "stdout",
     "output_type": "stream",
     "text": [
      "1 4 9 16 "
     ]
    }
   ],
   "source": [
    "for square in x_squared:\n",
    "    print(square, end=\" \")"
   ]
  }
 ],
 "metadata": {
  "kernelspec": {
   "display_name": "python-practice",
   "language": "python",
   "name": "python3"
  },
  "language_info": {
   "codemirror_mode": {
    "name": "ipython",
    "version": 3
   },
   "file_extension": ".py",
   "mimetype": "text/x-python",
   "name": "python",
   "nbconvert_exporter": "python",
   "pygments_lexer": "ipython3",
   "version": "3.12.3"
  }
 },
 "nbformat": 4,
 "nbformat_minor": 5
}
