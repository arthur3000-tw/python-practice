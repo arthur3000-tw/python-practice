{
 "cells": [
  {
   "cell_type": "markdown",
   "id": "c2330753",
   "metadata": {},
   "source": [
    "布林值與運算式的真假運算\n",
    "===\n",
    "數字 0, 0.0, 0 + 0j 都為 False，其他數字為 True\n",
    "\n",
    "空字串 \"\" 為 False，其他字串為 True\n",
    "\n",
    "空 list [] 為 False，其他 list 為 True\n",
    "\n",
    "空 Tuple () 為 False，其他 tuple 為 True\n",
    "\n",
    "空字典 {} 為 False，其他字典為 True\n",
    "\n",
    "特殊的 None 永遠屬於 False"
   ]
  }
 ],
 "metadata": {
  "language_info": {
   "name": "python"
  }
 },
 "nbformat": 4,
 "nbformat_minor": 5
}
