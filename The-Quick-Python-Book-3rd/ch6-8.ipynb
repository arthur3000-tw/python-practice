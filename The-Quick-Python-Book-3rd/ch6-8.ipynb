{
 "cells": [
  {
   "cell_type": "markdown",
   "id": "4816ba65",
   "metadata": {},
   "source": [
    "使用 format() method 來格式化字串\n",
    "===\n",
    "用為位置參數、編號參數來替換\n",
    "\n",
    "\"格式化字串...\".format(參數值...)"
   ]
  },
  {
   "cell_type": "code",
   "execution_count": 1,
   "id": "782a0a6c",
   "metadata": {},
   "outputs": [
    {
     "data": {
      "text/plain": [
       "'Ambrosia is the food of the gods'"
      ]
     },
     "execution_count": 1,
     "metadata": {},
     "output_type": "execute_result"
    }
   ],
   "source": [
    "\"{} is the {} of {}\".format(\"Ambrosia\", \"food\", \"the gods\")"
   ]
  },
  {
   "cell_type": "code",
   "execution_count": 2,
   "id": "e57cfff6",
   "metadata": {},
   "outputs": [
    {
     "data": {
      "text/plain": [
       "'{Ambrosia} is the food of the gods'"
      ]
     },
     "execution_count": 2,
     "metadata": {},
     "output_type": "execute_result"
    }
   ],
   "source": [
    "\"{{Ambrosia}} is the {} of {}\".format(\"food\", \"the gods\")"
   ]
  },
  {
   "cell_type": "code",
   "execution_count": 3,
   "id": "4c45becf",
   "metadata": {},
   "outputs": [
    {
     "data": {
      "text/plain": [
       "'1 + 2 = 3'"
      ]
     },
     "execution_count": 3,
     "metadata": {},
     "output_type": "execute_result"
    }
   ],
   "source": [
    "\"{} + {} = {}\".format(1, 2, 1+2)"
   ]
  },
  {
   "cell_type": "code",
   "execution_count": 4,
   "id": "87267abd",
   "metadata": {},
   "outputs": [
    {
     "data": {
      "text/plain": [
       "\"The list contains: [1, 2, 'three']\""
      ]
     },
     "execution_count": 4,
     "metadata": {},
     "output_type": "execute_result"
    }
   ],
   "source": [
    "x = [1, 2, \"three\"]\n",
    "\"The {} contains: {}\".format(\"list\", x)"
   ]
  },
  {
   "cell_type": "markdown",
   "id": "5b06438e",
   "metadata": {},
   "source": [
    "使用編號參數"
   ]
  },
  {
   "cell_type": "code",
   "execution_count": 5,
   "id": "051184dd",
   "metadata": {},
   "outputs": [
    {
     "data": {
      "text/plain": [
       "'Ambrosia is the food of the gods'"
      ]
     },
     "execution_count": 5,
     "metadata": {},
     "output_type": "execute_result"
    }
   ],
   "source": [
    "\"{2} is the {0} of {1}\".format(\"food\", \"the gods\", \"Ambrosia\")"
   ]
  },
  {
   "cell_type": "code",
   "execution_count": 6,
   "id": "d6ad02d1",
   "metadata": {},
   "outputs": [
    {
     "data": {
      "text/plain": [
       "'abcdefabc'"
      ]
     },
     "execution_count": 6,
     "metadata": {},
     "output_type": "execute_result"
    }
   ],
   "source": [
    "\"{0}{1}{0}\".format(\"abc\",\"def\")"
   ]
  },
  {
   "cell_type": "markdown",
   "id": "8c6a9dc2",
   "metadata": {},
   "source": [
    "使用指名參數（named parameter）來替換"
   ]
  },
  {
   "cell_type": "code",
   "execution_count": 7,
   "id": "4fe400fd",
   "metadata": {},
   "outputs": [
    {
     "data": {
      "text/plain": [
       "'Ambrosia is the food of the gods'"
      ]
     },
     "execution_count": 7,
     "metadata": {},
     "output_type": "execute_result"
    }
   ],
   "source": [
    "\"{food} is the food of {user}\".format(food=\"Ambrosia\", user=\"the gods\")"
   ]
  },
  {
   "cell_type": "code",
   "execution_count": 8,
   "id": "8c49fc58",
   "metadata": {},
   "outputs": [
    {
     "data": {
      "text/plain": [
       "'Ambrosia is the food of the gods'"
      ]
     },
     "execution_count": 8,
     "metadata": {},
     "output_type": "execute_result"
    }
   ],
   "source": [
    "\"{0} is the food of {user[1]}\".format(\"Ambrosia\", user=[\"men\", \"the gods\", \"others\"])"
   ]
  },
  {
   "cell_type": "code",
   "execution_count": 9,
   "id": "39938ccd",
   "metadata": {},
   "outputs": [
    {
     "ename": "SyntaxError",
     "evalue": "positional argument follows keyword argument (1171210050.py, line 1)",
     "output_type": "error",
     "traceback": [
      "  \u001b[36mCell\u001b[39m\u001b[36m \u001b[39m\u001b[32mIn[9]\u001b[39m\u001b[32m, line 1\u001b[39m\n\u001b[31m    \u001b[39m\u001b[31m\"{0} is the food of {user}\".format(user=\"the gods\", \"Ambrosia\")\u001b[39m\n                                                                  ^\n\u001b[31mSyntaxError\u001b[39m\u001b[31m:\u001b[39m positional argument follows keyword argument\n"
     ]
    }
   ],
   "source": [
    "\"{0} is the food of {user}\".format(user=\"the gods\", \"Ambrosia\")"
   ]
  },
  {
   "cell_type": "markdown",
   "id": "87f3ce4e",
   "metadata": {},
   "source": [
    "格式化設定"
   ]
  },
  {
   "cell_type": "code",
   "execution_count": null,
   "id": "2136c603",
   "metadata": {},
   "outputs": [
    {
     "data": {
      "text/plain": [
       "'Ambrosia   is the food of gods'"
      ]
     },
     "execution_count": 10,
     "metadata": {},
     "output_type": "execute_result"
    }
   ],
   "source": [
    "# :10 是格式化設定，10 代表為該欄位預留 10 個空格\n",
    "\"{0:10} is the food of gods\".format(\"Ambrosia\")"
   ]
  },
  {
   "cell_type": "code",
   "execution_count": 11,
   "id": "7f16891b",
   "metadata": {},
   "outputs": [
    {
     "data": {
      "text/plain": [
       "'  Ambrosia is the food of gods'"
      ]
     },
     "execution_count": 11,
     "metadata": {},
     "output_type": "execute_result"
    }
   ],
   "source": [
    "# :>10 的 10 相同是預留 10 格空格，而 > 代表強制欄位靠右對齊\n",
    "\"{0:>10} is the food of gods\".format(\"Ambrosia\")"
   ]
  },
  {
   "cell_type": "code",
   "execution_count": 12,
   "id": "1b7935e1",
   "metadata": {},
   "outputs": [
    {
     "data": {
      "text/plain": [
       "'&&Ambrosia is the food of gods'"
      ]
     },
     "execution_count": 12,
     "metadata": {},
     "output_type": "execute_result"
    }
   ],
   "source": [
    "# :&>10 表示預留 10 個空格，強制靠右對齊，並用 10 個 & 填滿空出的位置\n",
    "\"{0:&>10} is the food of gods\".format(\"Ambrosia\")"
   ]
  },
  {
   "cell_type": "code",
   "execution_count": 13,
   "id": "5b2bb23c",
   "metadata": {},
   "outputs": [
    {
     "data": {
      "text/plain": [
       "'Ambrosia   is the food of gods'"
      ]
     },
     "execution_count": 13,
     "metadata": {},
     "output_type": "execute_result"
    }
   ],
   "source": [
    "\"{0:{1}} is the food of gods\".format(\"Ambrosia\", 10)"
   ]
  },
  {
   "cell_type": "code",
   "execution_count": 14,
   "id": "d8ce45f2",
   "metadata": {},
   "outputs": [
    {
     "data": {
      "text/plain": [
       "'Ambrosia   is the food of gods'"
      ]
     },
     "execution_count": 14,
     "metadata": {},
     "output_type": "execute_result"
    }
   ],
   "source": [
    "\"{food:{width}} is the food of gods\".format(food=\"Ambrosia\", width=10)"
   ]
  }
 ],
 "metadata": {
  "kernelspec": {
   "display_name": "python-practice",
   "language": "python",
   "name": "python3"
  },
  "language_info": {
   "codemirror_mode": {
    "name": "ipython",
    "version": 3
   },
   "file_extension": ".py",
   "mimetype": "text/x-python",
   "name": "python",
   "nbconvert_exporter": "python",
   "pygments_lexer": "ipython3",
   "version": "3.12.3"
  }
 },
 "nbformat": 4,
 "nbformat_minor": 5
}
