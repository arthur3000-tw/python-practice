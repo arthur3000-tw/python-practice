{
 "cells": [
  {
   "cell_type": "markdown",
   "id": "a89dd4cd",
   "metadata": {},
   "source": [
    "字串的修改\n",
    "===\n",
    "replace()\n",
    "\n",
    "可以使用 replace() 把字串中的某些文字（第一個參數），替換成新的文字（第二個參數）"
   ]
  },
  {
   "cell_type": "code",
   "execution_count": 1,
   "id": "e5162c1e",
   "metadata": {},
   "outputs": [
    {
     "data": {
      "text/plain": [
       "'Mi+++i+++ippi'"
      ]
     },
     "execution_count": 1,
     "metadata": {},
     "output_type": "execute_result"
    }
   ],
   "source": [
    "x = \"Mississippi\"\n",
    "x.replace(\"ss\", \"+++\")"
   ]
  },
  {
   "cell_type": "markdown",
   "id": "1d7701de",
   "metadata": {},
   "source": [
    "maketrans() translate()"
   ]
  },
  {
   "cell_type": "code",
   "execution_count": 2,
   "id": "5e875f2d",
   "metadata": {},
   "outputs": [
    {
     "data": {
      "text/plain": [
       "'!x & [y % z]'"
      ]
     },
     "execution_count": 2,
     "metadata": {},
     "output_type": "execute_result"
    }
   ],
   "source": [
    "x = \"~x ^ (y % z)\"\n",
    "table = x.maketrans(\"~^()\", \"!&[]\")\n",
    "x.translate(table)"
   ]
  },
  {
   "cell_type": "markdown",
   "id": "036c2f91",
   "metadata": {},
   "source": [
    "lower(): 將字串中所有的字母轉換為小寫\n",
    "\n",
    "upper(): 將字串中所有的字母轉換為大寫\n",
    "\n",
    "capitalize(): 將字串的第一個字元改成大寫\n",
    "\n",
    "title(): 將字串中所有單字的第一個字母都改成大寫\n",
    "\n",
    "swapcase(): 將字串所以有大寫字母改為小寫\n",
    "\n",
    "expandtabs(): 會以指定樹木的空格替換字串中的定位符號"
   ]
  },
  {
   "cell_type": "markdown",
   "id": "0993fee2",
   "metadata": {},
   "source": [
    "ljust(), rjust(), center() 用空格填充字串，以便向左、向右、以及置中對齊某個欄位寬度\n",
    "\n",
    "zfill() 會在數值字串的左邊補零已達到指定的長度"
   ]
  },
  {
   "cell_type": "markdown",
   "id": "08c87647",
   "metadata": {},
   "source": [
    "透過 list 來修改字串"
   ]
  },
  {
   "cell_type": "code",
   "execution_count": 3,
   "id": "911f597b",
   "metadata": {},
   "outputs": [
    {
     "data": {
      "text/plain": [
       "',olleH'"
      ]
     },
     "execution_count": 3,
     "metadata": {},
     "output_type": "execute_result"
    }
   ],
   "source": [
    "text = \"Hello, World\"\n",
    "wordList = list(text)\n",
    "# 移除逗點後所有字元\n",
    "wordList[6:] = []\n",
    "# 將字元順序反轉\n",
    "wordList.reverse()\n",
    "# 以無空格方式合併\n",
    "text = \"\".join(wordList)\n",
    "text"
   ]
  }
 ],
 "metadata": {
  "kernelspec": {
   "display_name": "python-practice",
   "language": "python",
   "name": "python3"
  },
  "language_info": {
   "codemirror_mode": {
    "name": "ipython",
    "version": 3
   },
   "file_extension": ".py",
   "mimetype": "text/x-python",
   "name": "python",
   "nbconvert_exporter": "python",
   "pygments_lexer": "ipython3",
   "version": "3.12.3"
  }
 },
 "nbformat": 4,
 "nbformat_minor": 5
}
