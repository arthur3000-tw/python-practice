{
 "cells": [
  {
   "cell_type": "markdown",
   "id": "9a01e410",
   "metadata": {},
   "source": [
    "特殊字元和轉義字元\n",
    "===\n",
    "| 轉義字元 | 代表字元 |\n",
    "| :-- | :-- |\n",
    "| \\\\' | 單引號（'） |\n",
    "| \\\\\" | 雙引號（\"） |\n",
    "| \\\\\\ | 反斜線（\\） |\n",
    "| \\a | 發出嗶聲（Bell） |\n",
    "| \\b | 倒退鍵（Backspace） |\n",
    "| \\f | 換頁 |\n",
    "| \\n | 換行 |\n",
    "| \\r | 歸位符號（Carriage Return） |\n",
    "| \\t | 定位符號（Tab） |\n",
    "| \\v | 垂直定位符號（Vertical Tab） |"
   ]
  },
  {
   "cell_type": "markdown",
   "id": "3b7faed3",
   "metadata": {},
   "source": [
    "數值（八進位和十六進位）以及 Unicode 轉義字元"
   ]
  },
  {
   "cell_type": "code",
   "execution_count": 1,
   "id": "bae3850d",
   "metadata": {},
   "outputs": [
    {
     "data": {
      "text/plain": [
       "'m'"
      ]
     },
     "execution_count": 1,
     "metadata": {},
     "output_type": "execute_result"
    }
   ],
   "source": [
    "\"m\""
   ]
  },
  {
   "cell_type": "code",
   "execution_count": null,
   "id": "7d2a7348",
   "metadata": {},
   "outputs": [
    {
     "data": {
      "text/plain": [
       "'m'"
      ]
     },
     "execution_count": 2,
     "metadata": {},
     "output_type": "execute_result"
    }
   ],
   "source": [
    "# 八進位轉義字元\n",
    "\"\\155\""
   ]
  },
  {
   "cell_type": "code",
   "execution_count": 3,
   "id": "01902a71",
   "metadata": {},
   "outputs": [
    {
     "data": {
      "text/plain": [
       "'m'"
      ]
     },
     "execution_count": 3,
     "metadata": {},
     "output_type": "execute_result"
    }
   ],
   "source": [
    "# 十六進位轉義字元\n",
    "\"\\x6D\""
   ]
  },
  {
   "cell_type": "code",
   "execution_count": 4,
   "id": "d0383744",
   "metadata": {},
   "outputs": [
    {
     "data": {
      "text/plain": [
       "'m'"
      ]
     },
     "execution_count": 4,
     "metadata": {},
     "output_type": "execute_result"
    }
   ],
   "source": [
    "# 大小寫皆可以\n",
    "\"\\x6d\""
   ]
  },
  {
   "cell_type": "code",
   "execution_count": 5,
   "id": "468ea417",
   "metadata": {},
   "outputs": [
    {
     "data": {
      "text/plain": [
       "'\\n'"
      ]
     },
     "execution_count": 5,
     "metadata": {},
     "output_type": "execute_result"
    }
   ],
   "source": [
    "\"\\n\""
   ]
  },
  {
   "cell_type": "code",
   "execution_count": 6,
   "id": "cfc2e6e1",
   "metadata": {},
   "outputs": [
    {
     "data": {
      "text/plain": [
       "'\\n'"
      ]
     },
     "execution_count": 6,
     "metadata": {},
     "output_type": "execute_result"
    }
   ],
   "source": [
    "\"\\012\""
   ]
  },
  {
   "cell_type": "code",
   "execution_count": 7,
   "id": "a19d7966",
   "metadata": {},
   "outputs": [
    {
     "data": {
      "text/plain": [
       "'\\n'"
      ]
     },
     "execution_count": 7,
     "metadata": {},
     "output_type": "execute_result"
    }
   ],
   "source": [
    "\"\\x0A\""
   ]
  },
  {
   "cell_type": "code",
   "execution_count": 8,
   "id": "1e3a5c8f",
   "metadata": {},
   "outputs": [
    {
     "data": {
      "text/plain": [
       "'a'"
      ]
     },
     "execution_count": 8,
     "metadata": {},
     "output_type": "execute_result"
    }
   ],
   "source": [
    "unicode_a = \"\\N{LATIN SMALL LETTER A}\"\n",
    "unicode_a"
   ]
  },
  {
   "cell_type": "code",
   "execution_count": 9,
   "id": "a7ec2cd1",
   "metadata": {},
   "outputs": [
    {
     "data": {
      "text/plain": [
       "'á'"
      ]
     },
     "execution_count": 9,
     "metadata": {},
     "output_type": "execute_result"
    }
   ],
   "source": [
    "unicode_a_with_acute = \"\\N{LATIN SMALL LETTER A WITH ACUTE}\"\n",
    "unicode_a_with_acute"
   ]
  },
  {
   "cell_type": "code",
   "execution_count": 10,
   "id": "e775f302",
   "metadata": {},
   "outputs": [
    {
     "data": {
      "text/plain": [
       "'á'"
      ]
     },
     "execution_count": 10,
     "metadata": {},
     "output_type": "execute_result"
    }
   ],
   "source": [
    "\"\\u00E1\""
   ]
  },
  {
   "cell_type": "markdown",
   "id": "c54c5f48",
   "metadata": {},
   "source": [
    "用 print() 函式輸出帶有轉義字元的字串"
   ]
  },
  {
   "cell_type": "code",
   "execution_count": 11,
   "id": "fd6049ff",
   "metadata": {},
   "outputs": [
    {
     "data": {
      "text/plain": [
       "'a\\n\\tb'"
      ]
     },
     "execution_count": 11,
     "metadata": {},
     "output_type": "execute_result"
    }
   ],
   "source": [
    "\"a\\n\\tb\""
   ]
  },
  {
   "cell_type": "code",
   "execution_count": 12,
   "id": "10923901",
   "metadata": {},
   "outputs": [
    {
     "name": "stdout",
     "output_type": "stream",
     "text": [
      "a\n",
      "\tb\n"
     ]
    }
   ],
   "source": [
    "print(\"a\\n\\tb\")"
   ]
  },
  {
   "cell_type": "code",
   "execution_count": null,
   "id": "adce1571",
   "metadata": {},
   "outputs": [
    {
     "name": "stdout",
     "output_type": "stream",
     "text": [
      "abc\n",
      "\n"
     ]
    }
   ],
   "source": [
    "# print() 函式會自動在字尾添加換行符號\n",
    "print(\"abc\\n\") # 換行兩次"
   ]
  },
  {
   "cell_type": "code",
   "execution_count": 14,
   "id": "1d650701",
   "metadata": {},
   "outputs": [
    {
     "name": "stdout",
     "output_type": "stream",
     "text": [
      "abc\n"
     ]
    }
   ],
   "source": [
    "# 設定不要換行\n",
    "print(\"abc\\n\", end=\"\")"
   ]
  }
 ],
 "metadata": {
  "kernelspec": {
   "display_name": "python-practice",
   "language": "python",
   "name": "python3"
  },
  "language_info": {
   "codemirror_mode": {
    "name": "ipython",
    "version": 3
   },
   "file_extension": ".py",
   "mimetype": "text/x-python",
   "name": "python",
   "nbconvert_exporter": "python",
   "pygments_lexer": "ipython3",
   "version": "3.12.3"
  }
 },
 "nbformat": 4,
 "nbformat_minor": 5
}
