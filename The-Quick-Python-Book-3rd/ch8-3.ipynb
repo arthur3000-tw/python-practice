{
 "cells": [
  {
   "cell_type": "markdown",
   "id": "19cba4ae",
   "metadata": {},
   "source": [
    "for 迴圈\n",
    "===\n",
    "```python\n",
    "for item in 可走訪物件:\n",
    "    主體程式區塊\n",
    "else:\n",
    "    後置程式區塊\n",
    "```\n",
    "可走訪的物件包括 list, tuple, set, 字串, 產生器, enumerate() 等"
   ]
  },
  {
   "cell_type": "code",
   "execution_count": 1,
   "id": "c44a0152",
   "metadata": {},
   "outputs": [
    {
     "name": "stdout",
     "output_type": "stream",
     "text": [
      "1.0\n",
      "0.5\n",
      "0.3333333333333333\n"
     ]
    }
   ],
   "source": [
    "x = [1.0, 2.0, 3.0]\n",
    "for n in x:\n",
    "    print(1/n)"
   ]
  },
  {
   "cell_type": "markdown",
   "id": "4e42f3e2",
   "metadata": {},
   "source": [
    "range() 函式"
   ]
  },
  {
   "cell_type": "code",
   "execution_count": 2,
   "id": "9d17eacd",
   "metadata": {},
   "outputs": [
    {
     "name": "stdout",
     "output_type": "stream",
     "text": [
      "找到負數，其索引值為  2\n",
      "找到負數，其索引值為  5\n"
     ]
    }
   ],
   "source": [
    "x = [1, 3, -7, 4, 9, -5, 4]\n",
    "for i in range(len(x)):\n",
    "    if x[i] < 0:\n",
    "        print(\"找到負數，其索引值為 \", i)"
   ]
  },
  {
   "cell_type": "markdown",
   "id": "fa6574ff",
   "metadata": {},
   "source": [
    "以 range(m,n) 控制數列範圍"
   ]
  },
  {
   "cell_type": "code",
   "execution_count": 3,
   "id": "ae69a8d3",
   "metadata": {},
   "outputs": [
    {
     "data": {
      "text/plain": [
       "[3, 4, 5, 6]"
      ]
     },
     "execution_count": 3,
     "metadata": {},
     "output_type": "execute_result"
    }
   ],
   "source": [
    "list(range(3,7))"
   ]
  },
  {
   "cell_type": "code",
   "execution_count": 4,
   "id": "7cdfcbf2",
   "metadata": {},
   "outputs": [
    {
     "data": {
      "text/plain": [
       "[2, 3, 4, 5, 6, 7, 8, 9]"
      ]
     },
     "execution_count": 4,
     "metadata": {},
     "output_type": "execute_result"
    }
   ],
   "source": [
    "list(range(2,10))"
   ]
  },
  {
   "cell_type": "code",
   "execution_count": 5,
   "id": "9e1ca138",
   "metadata": {},
   "outputs": [
    {
     "data": {
      "text/plain": [
       "[]"
      ]
     },
     "execution_count": 5,
     "metadata": {},
     "output_type": "execute_result"
    }
   ],
   "source": [
    "list(range(5,3))"
   ]
  },
  {
   "cell_type": "code",
   "execution_count": 6,
   "id": "f9de6662",
   "metadata": {},
   "outputs": [
    {
     "data": {
      "text/plain": [
       "[0, 2, 4, 6, 8]"
      ]
     },
     "execution_count": 6,
     "metadata": {},
     "output_type": "execute_result"
    }
   ],
   "source": [
    "list(range(0, 10, 2))"
   ]
  },
  {
   "cell_type": "code",
   "execution_count": 7,
   "id": "57ca5cca",
   "metadata": {},
   "outputs": [
    {
     "data": {
      "text/plain": [
       "[5, 4, 3, 2, 1]"
      ]
     },
     "execution_count": 7,
     "metadata": {},
     "output_type": "execute_result"
    }
   ],
   "source": [
    "list(range(5, 0, -1))"
   ]
  },
  {
   "cell_type": "markdown",
   "id": "ab6a6e0f",
   "metadata": {},
   "source": [
    "for 迴圈與 tuple 解包多重設定變數\n",
    "```python\n",
    "somelist = [(1, 2), (3, 7), (9, 5)]\n",
    "result = 0\n",
    "for t in somelist:\n",
    "    result = result + (t[0] * t[1])\n",
    "```\n",
    "用以下方式可以更清楚的了解：\n",
    "```python\n",
    "somelist = [(1, 2), (3, 7), (9, 5)]\n",
    "result = 0\n",
    "for num1, num2 in somelist:\n",
    "    result = result + (num1 * num2)\n",
    "```"
   ]
  },
  {
   "cell_type": "markdown",
   "id": "ad203db8",
   "metadata": {},
   "source": [
    "enumerate() 函式"
   ]
  },
  {
   "cell_type": "code",
   "execution_count": 8,
   "id": "07d49345",
   "metadata": {},
   "outputs": [
    {
     "data": {
      "text/plain": [
       "[(0, 'a'), (1, 'b'), (2, 'c')]"
      ]
     },
     "execution_count": 8,
     "metadata": {},
     "output_type": "execute_result"
    }
   ],
   "source": [
    "x = [\"a\", \"b\", \"c\"]\n",
    "list(enumerate(x))"
   ]
  },
  {
   "cell_type": "code",
   "execution_count": 9,
   "id": "a939b582",
   "metadata": {},
   "outputs": [
    {
     "name": "stdout",
     "output_type": "stream",
     "text": [
      "找到負數，其索引值為  2\n",
      "找到負數，其索引值為  5\n"
     ]
    }
   ],
   "source": [
    "x = [1, 3, -7, 4, 9, -5, 4]\n",
    "for i, n in enumerate(x):\n",
    "    if n < 0:\n",
    "        print(\"找到負數，其索引值為 \", i)"
   ]
  },
  {
   "cell_type": "markdown",
   "id": "81a900c6",
   "metadata": {},
   "source": [
    "zip() 函式"
   ]
  },
  {
   "cell_type": "code",
   "execution_count": 10,
   "id": "9a99362b",
   "metadata": {},
   "outputs": [
    {
     "data": {
      "text/plain": [
       "[(1, 'a'), (2, 'b'), (3, 'c')]"
      ]
     },
     "execution_count": 10,
     "metadata": {},
     "output_type": "execute_result"
    }
   ],
   "source": [
    "x = [1, 2, 3, 4]\n",
    "y = (\"a\", \"b\", \"c\")\n",
    "# 只會結合 3 個元素\n",
    "z = zip(x, y)\n",
    "list(z)"
   ]
  }
 ],
 "metadata": {
  "kernelspec": {
   "display_name": "python-practice",
   "language": "python",
   "name": "python3"
  },
  "language_info": {
   "codemirror_mode": {
    "name": "ipython",
    "version": 3
   },
   "file_extension": ".py",
   "mimetype": "text/x-python",
   "name": "python",
   "nbconvert_exporter": "python",
   "pygments_lexer": "ipython3",
   "version": "3.12.3"
  }
 },
 "nbformat": 4,
 "nbformat_minor": 5
}
