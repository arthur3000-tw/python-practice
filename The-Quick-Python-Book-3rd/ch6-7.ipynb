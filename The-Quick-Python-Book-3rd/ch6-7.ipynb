{
 "cells": [
  {
   "cell_type": "markdown",
   "id": "94139f6f",
   "metadata": {},
   "source": [
    "repr() 和 str() 將物件轉換成為字串表示\n",
    "==="
   ]
  },
  {
   "cell_type": "code",
   "execution_count": 1,
   "id": "76dda61d",
   "metadata": {},
   "outputs": [
    {
     "data": {
      "text/plain": [
       "'[1, 2, 3]'"
      ]
     },
     "execution_count": 1,
     "metadata": {},
     "output_type": "execute_result"
    }
   ],
   "source": [
    "repr([1, 2, 3])"
   ]
  },
  {
   "cell_type": "code",
   "execution_count": 2,
   "id": "eea38462",
   "metadata": {},
   "outputs": [
    {
     "data": {
      "text/plain": [
       "'the list x is [1, 2, [3, 4]]'"
      ]
     },
     "execution_count": 2,
     "metadata": {},
     "output_type": "execute_result"
    }
   ],
   "source": [
    "x = [1]\n",
    "x.append(2)\n",
    "x.append([3, 4])\n",
    "'the list x is '+ repr(x)"
   ]
  },
  {
   "cell_type": "code",
   "execution_count": 3,
   "id": "7a4c27a9",
   "metadata": {},
   "outputs": [
    {
     "data": {
      "text/plain": [
       "'<built-in function len>'"
      ]
     },
     "execution_count": 3,
     "metadata": {},
     "output_type": "execute_result"
    }
   ],
   "source": [
    "repr(len)"
   ]
  },
  {
   "cell_type": "markdown",
   "id": "0fa0bc5e",
   "metadata": {},
   "source": [
    "repr() 非常適合程式除錯\n",
    "\n",
    "repr() 函式回傳的字串是 Python 物件的『正式字串表示法』（formal string representation）\n",
    "\n",
    "str() 函式回傳的是物件的『非正式字串表示法』（informal string representation）\n",
    "\n",
    "str() 傳回的字串是給人看的，而 repr() 回傳的字串是給 Python 程式讀取的"
   ]
  },
  {
   "cell_type": "code",
   "execution_count": 4,
   "id": "597e6681",
   "metadata": {},
   "outputs": [
    {
     "data": {
      "text/plain": [
       "'2025-07-23 22:25:20.921400'"
      ]
     },
     "execution_count": 4,
     "metadata": {},
     "output_type": "execute_result"
    }
   ],
   "source": [
    "from datetime import datetime\n",
    "now = datetime.now()\n",
    "str(now)"
   ]
  },
  {
   "cell_type": "code",
   "execution_count": 5,
   "id": "7b07cc27",
   "metadata": {},
   "outputs": [
    {
     "name": "stdout",
     "output_type": "stream",
     "text": [
      "2025-07-23 22:25:20.921400\n"
     ]
    }
   ],
   "source": [
    "print(now)"
   ]
  },
  {
   "cell_type": "code",
   "execution_count": 6,
   "id": "dd527779",
   "metadata": {},
   "outputs": [
    {
     "data": {
      "text/plain": [
       "'datetime.datetime(2025, 7, 23, 22, 25, 20, 921400)'"
      ]
     },
     "execution_count": 6,
     "metadata": {},
     "output_type": "execute_result"
    }
   ],
   "source": [
    "repr(now)"
   ]
  }
 ],
 "metadata": {
  "kernelspec": {
   "display_name": "python-practice",
   "language": "python",
   "name": "python3"
  },
  "language_info": {
   "codemirror_mode": {
    "name": "ipython",
    "version": 3
   },
   "file_extension": ".py",
   "mimetype": "text/x-python",
   "name": "python",
   "nbconvert_exporter": "python",
   "pygments_lexer": "ipython3",
   "version": "3.12.3"
  }
 },
 "nbformat": 4,
 "nbformat_minor": 5
}
