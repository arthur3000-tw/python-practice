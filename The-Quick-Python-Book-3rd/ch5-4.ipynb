{
 "cells": [
  {
   "cell_type": "markdown",
   "id": "691458a4",
   "metadata": {},
   "source": [
    "list 的排序\n",
    "===\n",
    "list 可以使用 sort() 方法進行排序\n",
    "\n",
    "sort() 會改變原本 list 中的內容"
   ]
  },
  {
   "cell_type": "code",
   "execution_count": 7,
   "id": "609a1f6f",
   "metadata": {},
   "outputs": [
    {
     "data": {
      "text/plain": [
       "[0, 1, 2, 3, 4, 8]"
      ]
     },
     "execution_count": 7,
     "metadata": {},
     "output_type": "execute_result"
    }
   ],
   "source": [
    "x = [3, 8, 4, 0, 2, 1]\n",
    "x.sort()\n",
    "x"
   ]
  },
  {
   "cell_type": "markdown",
   "id": "ab85f75b",
   "metadata": {},
   "source": [
    "若 list 內的元素是字串，sort() 方法會依照字母順序排序（字母小寫大於大寫，\"a\" < \"z\"，先比較第一個字母，若相同則比較後續字母）"
   ]
  },
  {
   "cell_type": "code",
   "execution_count": 8,
   "id": "c97cd44e",
   "metadata": {},
   "outputs": [
    {
     "data": {
      "text/plain": [
       "['Enchanting', 'Life', 'is']"
      ]
     },
     "execution_count": 8,
     "metadata": {},
     "output_type": "execute_result"
    }
   ],
   "source": [
    "x = [\"Life\", \"is\", \"Enchanting\"]\n",
    "x.sort()\n",
    "x"
   ]
  },
  {
   "cell_type": "code",
   "execution_count": 9,
   "id": "6f294652",
   "metadata": {},
   "outputs": [
    {
     "ename": "TypeError",
     "evalue": "'<' not supported between instances of 'str' and 'int'",
     "output_type": "error",
     "traceback": [
      "\u001b[31m---------------------------------------------------------------------------\u001b[39m",
      "\u001b[31mTypeError\u001b[39m                                 Traceback (most recent call last)",
      "\u001b[36mCell\u001b[39m\u001b[36m \u001b[39m\u001b[32mIn[9]\u001b[39m\u001b[32m, line 2\u001b[39m\n\u001b[32m      1\u001b[39m x = [\u001b[32m1\u001b[39m, \u001b[32m2\u001b[39m, \u001b[33m\"\u001b[39m\u001b[33mhello\u001b[39m\u001b[33m\"\u001b[39m, \u001b[32m3\u001b[39m]\n\u001b[32m----> \u001b[39m\u001b[32m2\u001b[39m \u001b[43mx\u001b[49m\u001b[43m.\u001b[49m\u001b[43msort\u001b[49m\u001b[43m(\u001b[49m\u001b[43m)\u001b[49m\n",
      "\u001b[31mTypeError\u001b[39m: '<' not supported between instances of 'str' and 'int'"
     ]
    }
   ],
   "source": [
    "x = [1, 2, \"hello\", 3]\n",
    "x.sort()"
   ]
  },
  {
   "cell_type": "code",
   "execution_count": 10,
   "id": "d1e045ce",
   "metadata": {},
   "outputs": [
    {
     "data": {
      "text/plain": [
       "[[2, 3], [2, 9], [3, 2], [3, 5], [4, 1]]"
      ]
     },
     "execution_count": 10,
     "metadata": {},
     "output_type": "execute_result"
    }
   ],
   "source": [
    "x = [[3, 5], [2, 9], [2, 3], [4, 1], [3, 2]]\n",
    "x.sort()\n",
    "x"
   ]
  },
  {
   "cell_type": "code",
   "execution_count": 11,
   "id": "36ef2ad7",
   "metadata": {},
   "outputs": [
    {
     "data": {
      "text/plain": [
       "[2, 1, 0]"
      ]
     },
     "execution_count": 11,
     "metadata": {},
     "output_type": "execute_result"
    }
   ],
   "source": [
    "x = [0, 1, 2]\n",
    "x.sort(reverse=True)\n",
    "x"
   ]
  },
  {
   "cell_type": "markdown",
   "id": "44a82efb",
   "metadata": {},
   "source": [
    "自定義排序\n",
    "\n",
    "撰寫一個比較字串長度的函式如下"
   ]
  },
  {
   "cell_type": "code",
   "execution_count": 12,
   "id": "aea5e110",
   "metadata": {},
   "outputs": [],
   "source": [
    "def compare_num_of_chars(string1):\n",
    "    return len(string1)"
   ]
  },
  {
   "cell_type": "code",
   "execution_count": 13,
   "id": "a7d1ddf0",
   "metadata": {},
   "outputs": [
    {
     "data": {
      "text/plain": [
       "['C', 'Python', 'better', 'is', 'than']"
      ]
     },
     "execution_count": 13,
     "metadata": {},
     "output_type": "execute_result"
    }
   ],
   "source": [
    "word_list = [\"Python\", \"is\", \"better\", \"than\", \"C\"]\n",
    "word_list.sort()\n",
    "word_list"
   ]
  },
  {
   "cell_type": "code",
   "execution_count": 14,
   "id": "58ac2b7e",
   "metadata": {},
   "outputs": [
    {
     "data": {
      "text/plain": [
       "['C', 'is', 'than', 'Python', 'better']"
      ]
     },
     "execution_count": 14,
     "metadata": {},
     "output_type": "execute_result"
    }
   ],
   "source": [
    "word_list = [\"Python\", \"is\", \"better\", \"than\", \"C\"]\n",
    "word_list.sort(key=compare_num_of_chars)\n",
    "word_list"
   ]
  },
  {
   "cell_type": "markdown",
   "id": "3c3043f6",
   "metadata": {},
   "source": [
    "sorted() 函式\n",
    "\n",
    "Python 還有另一個內建的 sorted() 函式，與 list 的 sort() 方法差別在於 sort() 方法會直接修改原本 list，而 sorted() 函式則不會，而是回傳一個新的已經排好的 list。\n",
    "\n",
    "sorted() 函式與 sort() 方法一樣可以使用 key 和 reverse 參數。"
   ]
  },
  {
   "cell_type": "code",
   "execution_count": 15,
   "id": "b19cb476",
   "metadata": {},
   "outputs": [
    {
     "data": {
      "text/plain": [
       "[1, 2, 3, 4]"
      ]
     },
     "execution_count": 15,
     "metadata": {},
     "output_type": "execute_result"
    }
   ],
   "source": [
    "x = [4, 2, 1, 3]\n",
    "y = sorted(x)\n",
    "y"
   ]
  },
  {
   "cell_type": "code",
   "execution_count": 16,
   "id": "0103fb1c",
   "metadata": {},
   "outputs": [
    {
     "data": {
      "text/plain": [
       "[4, 3, 2, 1]"
      ]
     },
     "execution_count": 16,
     "metadata": {},
     "output_type": "execute_result"
    }
   ],
   "source": [
    "z = sorted(x, reverse=True)\n",
    "z"
   ]
  },
  {
   "cell_type": "code",
   "execution_count": 17,
   "id": "12392617",
   "metadata": {},
   "outputs": [
    {
     "data": {
      "text/plain": [
       "[4, 2, 1, 3]"
      ]
     },
     "execution_count": 17,
     "metadata": {},
     "output_type": "execute_result"
    }
   ],
   "source": [
    "x"
   ]
  },
  {
   "cell_type": "markdown",
   "id": "59bc4337",
   "metadata": {},
   "source": [
    "假設現在有一個 list = [[1,2,3], [2,1,3], [4,0,1]]\n",
    "\n",
    "想要按照每個 list 元素中的第二個元素進行大小排序\n",
    "\n",
    "得到結果 [[4,0,1], [2,1,3], [1,2,3]]\n",
    "\n",
    "要如何撰寫比較函式當作 key 參數給 sort() 方法？"
   ]
  },
  {
   "cell_type": "code",
   "execution_count": 18,
   "id": "ac226943",
   "metadata": {},
   "outputs": [
    {
     "data": {
      "text/plain": [
       "[[4, 0, 1], [2, 1, 3], [1, 2, 3]]"
      ]
     },
     "execution_count": 18,
     "metadata": {},
     "output_type": "execute_result"
    }
   ],
   "source": [
    "def compare_second_element(list1):\n",
    "    return list1[1]\n",
    "\n",
    "x = [[1,2,3], [2,1,3], [4,0,1]]\n",
    "x.sort(key=compare_second_element)\n",
    "x"
   ]
  }
 ],
 "metadata": {
  "kernelspec": {
   "display_name": "python-practice",
   "language": "python",
   "name": "python3"
  },
  "language_info": {
   "codemirror_mode": {
    "name": "ipython",
    "version": 3
   },
   "file_extension": ".py",
   "mimetype": "text/x-python",
   "name": "python",
   "nbconvert_exporter": "python",
   "pygments_lexer": "ipython3",
   "version": "3.12.3"
  }
 },
 "nbformat": 4,
 "nbformat_minor": 5
}
