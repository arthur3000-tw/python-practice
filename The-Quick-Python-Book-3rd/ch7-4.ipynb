{
 "cells": [
  {
   "cell_type": "markdown",
   "id": "6bf6e7e7",
   "metadata": {},
   "source": [
    "什麼型別可以當作鍵來使用？\n",
    "===\n",
    "\n",
    "| Python 型別 | 是否不可變？ | 是否可雜湊？ | 是否可以當作字典的鍵？ |\n",
    "| :--: | :--: | :--: | :--: | \n",
    "| int | 是 | 是 | 是 |\n",
    "| float | 是 | 是 | 是 |\n",
    "| boolean | 是 | 是 | 是 |\n",
    "| complex | 是 | 是 | 是 |\n",
    "| str | 是 | 是 | 是 |\n",
    "| bytes | 是 | 是 | 是 |\n",
    "| bytearray | 否 | 否 | 否 |\n",
    "| list | 否 | 否 | 否 |\n",
    "| tuple | 是 | 有時可以 | 有時可以 |\n",
    "| set | 否 | 否 | 否 |\n",
    "| frozenset | 是 | 是 | 是 |\n",
    "| dictionary | 否 | 否 | 否 |"
   ]
  }
 ],
 "metadata": {
  "language_info": {
   "name": "python"
  }
 },
 "nbformat": 4,
 "nbformat_minor": 5
}
