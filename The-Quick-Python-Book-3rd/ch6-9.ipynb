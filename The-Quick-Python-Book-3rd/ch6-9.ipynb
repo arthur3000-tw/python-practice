{
 "cells": [
  {
   "cell_type": "markdown",
   "id": "b5436636",
   "metadata": {},
   "source": [
    "以 % 算符來格式化字串\n",
    "==="
   ]
  },
  {
   "cell_type": "code",
   "execution_count": 1,
   "id": "24a9f51e",
   "metadata": {},
   "outputs": [
    {
     "data": {
      "text/plain": [
       "'Ambrosia is the food of the gods'"
      ]
     },
     "execution_count": 1,
     "metadata": {},
     "output_type": "execute_result"
    }
   ],
   "source": [
    "\"%s is the %s of %s\" % (\"Ambrosia\", \"food\", \"the gods\")"
   ]
  },
  {
   "cell_type": "code",
   "execution_count": 2,
   "id": "2f6eec80",
   "metadata": {},
   "outputs": [
    {
     "data": {
      "text/plain": [
       "'Nectar is the drink of gods'"
      ]
     },
     "execution_count": 2,
     "metadata": {},
     "output_type": "execute_result"
    }
   ],
   "source": [
    "\"%s is the %s of %s\" % (\"Nectar\", \"drink\", \"gods\")"
   ]
  },
  {
   "cell_type": "code",
   "execution_count": 3,
   "id": "1df20ce8",
   "metadata": {},
   "outputs": [
    {
     "data": {
      "text/plain": [
       "'Brussels Sprouts is the food of foolish'"
      ]
     },
     "execution_count": 3,
     "metadata": {},
     "output_type": "execute_result"
    }
   ],
   "source": [
    "\"%s is the %s of %s\" % (\"Brussels Sprouts\", \"food\", \"foolish\")"
   ]
  },
  {
   "cell_type": "markdown",
   "id": "cddc66ee",
   "metadata": {},
   "source": [
    "% 算符的格數化參數"
   ]
  },
  {
   "cell_type": "code",
   "execution_count": null,
   "id": "6f8d8e47",
   "metadata": {},
   "outputs": [
    {
     "data": {
      "text/plain": [
       "'Pi is <3.14  >'"
      ]
     },
     "execution_count": 4,
     "metadata": {},
     "output_type": "execute_result"
    }
   ],
   "source": [
    "# 欄位寬度為 6，並指定小數點後面的字元個數為 2\n",
    "\"Pi is <%-6.2f>\" % 3.14159"
   ]
  },
  {
   "cell_type": "markdown",
   "id": "80c492a4",
   "metadata": {},
   "source": [
    "% 算符的指名參數"
   ]
  },
  {
   "cell_type": "code",
   "execution_count": 5,
   "id": "5475ffe9",
   "metadata": {},
   "outputs": [
    {
     "data": {
      "text/plain": [
       "'3.14 - 3.1416 - 2.72'"
      ]
     },
     "execution_count": 5,
     "metadata": {},
     "output_type": "execute_result"
    }
   ],
   "source": [
    "num_dict = {\"e\": 2.718, \"pi\": 3.14159}\n",
    "\"%(pi).2f - %(pi).4f - %(e).2f\" % num_dict"
   ]
  }
 ],
 "metadata": {
  "kernelspec": {
   "display_name": "python-practice",
   "language": "python",
   "name": "python3"
  },
  "language_info": {
   "codemirror_mode": {
    "name": "ipython",
    "version": 3
   },
   "file_extension": ".py",
   "mimetype": "text/x-python",
   "name": "python",
   "nbconvert_exporter": "python",
   "pygments_lexer": "ipython3",
   "version": "3.12.3"
  }
 },
 "nbformat": 4,
 "nbformat_minor": 5
}
