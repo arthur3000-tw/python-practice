{
 "cells": [
  {
   "cell_type": "markdown",
   "id": "3486b24c",
   "metadata": {},
   "source": [
    "基本 Python 風格與命名習慣\n",
    "===\n",
    "| 情況 | 建議 | 範例 |\n",
    "| :-- | :-- | :-- |\n",
    "| 模組 / 套件名稱 | 短名詞，全部小寫，必要時才需要是使用底線 (_) | imp, sys |\n",
    "| 函式名稱 | 全部小寫，可以使用底線增加閱讀性 | foo(), my_func() |\n",
    "| 變數名稱 | 全部小寫，可以使用底線增加閱讀性 | my_var |\n",
    "| 類別名稱 | 每個英文單字的第一個字母大寫 | MyClass |\n",
    "| 常數名稱 | 全部大寫，單字與單字之間加上底線 | PI, TAX_RATE |\n",
    "| 縮排 | 每個級別為 4 個空格，推薦使用空白，不使用 Tab | |\n",
    "| 比較 | 當比較值是 True 或是 False 時，無需使用 == 運算子 | if my_var:<br>if not my_var: |"
   ]
  },
  {
   "cell_type": "markdown",
   "id": "94a7c8c2",
   "metadata": {},
   "source": [
    "底線開頭或是底線結尾的名稱\n",
    "===\n",
    "| 名稱 | 說明 |\n",
    "| :-- | :-- |\n",
    "| 前單底線 _var | 模組的私有變數或是函式，用 * 號匯入模組時，無法匯入已 _ 底線開頭的名稱。<br>類別或物件的私有變數或 method，類別或是物件外部仍可以存取。 |\n",
    "| 前雙底線 __var | 類別或物件的私有變數或 method，會被 Python 改名，<br>所以類別或物件外部無法直接用原本名稱存取。 |\n",
    "| 前後雙底線 __var__ | 保留給 Python 內部使用的名稱，避免使用這種形式。 |\n",
    "| 後單底線 var_ | 避免與 Python 關鍵字衝突，例如想使用 print 這個名稱，但是<br>print() 是 Python 內建函式，為了避免衝突，可以取名為 print_ |\n"
   ]
  },
  {
   "cell_type": "markdown",
   "id": "6010c1e5",
   "metadata": {},
   "source": [
    "縮排範例\n",
    "===\n",
    "### ✅ 正確示範 ----------\n",
    "```python\n",
    "# 斷行與括號對齊\n",
    "foo = long_function_name(var_one, var_two,\n",
    "                         var_three, var_four)\n",
    "\n",
    "# 引數 (argument) 多一層縮排，與函式內的程式碼做區別\n",
    "def long_function_name(\n",
    "        var_one, var_two, var_three,\n",
    "        var_four):\n",
    "    print(var_one)\n",
    "```\n",
    "### ❌ 錯誤示範 ----------\n",
    "```python\n",
    "# 使用垂直縮排時，引數不能在第一行\n",
    "foo = long_function_name(var_one, var_two,\n",
    "    var_three, var_four)\n",
    "\n",
    "# 無法分辨引數及函式內程式碼\n",
    "def long_function_name(\n",
    "    var_one, var_two, var_three,\n",
    "    var_four):\n",
    "    print(var_one)\n",
    "```"
   ]
  },
  {
   "cell_type": "markdown",
   "id": "33184f8f",
   "metadata": {},
   "source": [
    "比較範例\n",
    "===\n",
    "### ✅ 正確示範 ----------\n",
    "```python\n",
    "if greeting:\n",
    "```\n",
    "### ❌ 錯誤示範 ----------\n",
    "```python\n",
    "if greeting == True:\n",
    "if greeting is True:\n",
    "```"
   ]
  },
  {
   "cell_type": "code",
   "execution_count": 1,
   "id": "b8819ff4",
   "metadata": {},
   "outputs": [
    {
     "name": "stdout",
     "output_type": "stream",
     "text": [
      "greeting is true\n"
     ]
    }
   ],
   "source": [
    "greeting = True\n",
    "if greeting:\n",
    "    print(\"greeting is true\")"
   ]
  },
  {
   "cell_type": "markdown",
   "id": "b9167405",
   "metadata": {},
   "source": [
    "確認序列 String, List, Tuple 是否為空\n",
    "===\n",
    "### ✅ 正確示範 ----------\n",
    "```python\n",
    "# 如果序列有值\n",
    "if seq:\n",
    "# 如果序列為空\n",
    "if not seq:\n",
    "```\n",
    "### ❌ 錯誤示範 ----------\n",
    "```python\n",
    "if len(seq):\n",
    "if not len(seq):\n",
    "```"
   ]
  },
  {
   "cell_type": "code",
   "execution_count": 2,
   "id": "d06fd979",
   "metadata": {},
   "outputs": [
    {
     "name": "stdout",
     "output_type": "stream",
     "text": [
      "seq1 is not empty\n",
      "seq2 is empty\n"
     ]
    }
   ],
   "source": [
    "seq1 = [1,2,3]\n",
    "seq2 = \"\"\n",
    "if seq1:\n",
    "    print(\"seq1 is not empty\")\n",
    "if not seq2:\n",
    "    print(\"seq2 is empty\")"
   ]
  },
  {
   "cell_type": "markdown",
   "id": "019fb8e2",
   "metadata": {},
   "source": [
    "善用 ''.startwith() 以及 ''.endwith() 來取代 string slicing 確認字首或字尾\n",
    "===\n",
    "### ✅ 正確示範 ----------\n",
    "```python\n",
    "if foo.startswith('bar'):\n",
    "```\n",
    "### ❌ 錯誤示範 ----------\n",
    "```python\n",
    "if foo[:3] == 'bar':\n",
    "```"
   ]
  },
  {
   "cell_type": "code",
   "execution_count": 3,
   "id": "700c8232",
   "metadata": {},
   "outputs": [
    {
     "name": "stdout",
     "output_type": "stream",
     "text": [
      "foo starts with 'bar'\n"
     ]
    }
   ],
   "source": [
    "foo = 'barcode'\n",
    "if foo.startswith('bar'):\n",
    "    print(\"foo starts with 'bar'\")"
   ]
  }
 ],
 "metadata": {
  "kernelspec": {
   "display_name": ".venv",
   "language": "python",
   "name": "python3"
  },
  "language_info": {
   "codemirror_mode": {
    "name": "ipython",
    "version": 3
   },
   "file_extension": ".py",
   "mimetype": "text/x-python",
   "name": "python",
   "nbconvert_exporter": "python",
   "pygments_lexer": "ipython3",
   "version": "3.12.3"
  }
 },
 "nbformat": 4,
 "nbformat_minor": 5
}
