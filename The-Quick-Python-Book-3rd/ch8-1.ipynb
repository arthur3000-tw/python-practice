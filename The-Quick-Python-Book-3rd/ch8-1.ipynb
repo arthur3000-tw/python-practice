{
 "cells": [
  {
   "cell_type": "markdown",
   "id": "2f741818",
   "metadata": {},
   "source": [
    "while 迴圈\n",
    "===\n",
    "```python\n",
    "while 條件式:\n",
    "    主體程式區塊\n",
    "# 非必要\n",
    "else:\n",
    "    後置程式區塊\n",
    "```"
   ]
  },
  {
   "cell_type": "markdown",
   "id": "a2577319",
   "metadata": {},
   "source": [
    "break 和 continue\n",
    "\n",
    "如果執行 break，它會立即終止 while 迴圈，而且不執行後置程式區塊\n",
    "\n",
    "如果執行 continue，則會跳過 continue 後面的程式，回到 while 條件式繼續執行下一次迴圈\n",
    "\n",
    "```python\n",
    "while 條件式:\n",
    "    主體程式區塊\n",
    "# 主體程式區塊沒有執行 break，則後置程式區塊永遠都會執行\n",
    "else:\n",
    "    後置程式區塊\n",
    "```"
   ]
  },
  {
   "cell_type": "markdown",
   "id": "167f656e",
   "metadata": {},
   "source": [
    "使用 while-else 範例：\n",
    "```python\n",
    "data = get_data()\n",
    "while data != \"\":\n",
    "    if \"Good\" in data:\n",
    "        print(\"找到單字Good\")\n",
    "        break\n",
    "    data = get_data()\n",
    "else:\n",
    "    print(\"找不到單字Good\")\n",
    "```\n",
    "不使用 while-else 則需要使用下面方式：\n",
    "```python\n",
    "found = False\n",
    "data = get_data()\n",
    "while data != \"\":\n",
    "    if \"Good\" in data:\n",
    "        print(\"找到單字Good\")\n",
    "        found = True\n",
    "        break\n",
    "    data = get_data()\n",
    "if not found:\n",
    "    print(\"找不到單字Good\")\n",
    "```"
   ]
  }
 ],
 "metadata": {
  "language_info": {
   "name": "python"
  }
 },
 "nbformat": 4,
 "nbformat_minor": 5
}
