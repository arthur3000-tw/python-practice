{
 "cells": [
  {
   "cell_type": "markdown",
   "id": "fd2b4054",
   "metadata": {},
   "source": [
    "字串常用的 method 與函式\n",
    "===\n",
    "字串名稱.method()"
   ]
  },
  {
   "cell_type": "markdown",
   "id": "320dafdd",
   "metadata": {},
   "source": [
    "用 spilt() 和 join() 切割與連接字串\n",
    "str.join(sequence)"
   ]
  },
  {
   "cell_type": "code",
   "execution_count": 1,
   "id": "ed0aee39",
   "metadata": {},
   "outputs": [
    {
     "data": {
      "text/plain": [
       "'join puts spaces between elements'"
      ]
     },
     "execution_count": 1,
     "metadata": {},
     "output_type": "execute_result"
    }
   ],
   "source": [
    "# 使用空格連接字串\n",
    "\" \".join([\"join\", \"puts\", \"spaces\", \"between\", \"elements\"])"
   ]
  },
  {
   "cell_type": "code",
   "execution_count": 2,
   "id": "3e8bc6c8",
   "metadata": {},
   "outputs": [
    {
     "data": {
      "text/plain": [
       "'Separated::by::colons'"
      ]
     },
     "execution_count": 2,
     "metadata": {},
     "output_type": "execute_result"
    }
   ],
   "source": [
    "# 使用 :: 連接字串\n",
    "\"::\".join([\"Separated\", \"by\", \"colons\"])"
   ]
  },
  {
   "cell_type": "code",
   "execution_count": 3,
   "id": "7ecd4d3b",
   "metadata": {},
   "outputs": [
    {
     "data": {
      "text/plain": [
       "'Separatedbynothing'"
      ]
     },
     "execution_count": 3,
     "metadata": {},
     "output_type": "execute_result"
    }
   ],
   "source": [
    "# 使用空字串連接字串\n",
    "\"\".join([\"Separated\", \"by\", \"nothing\"])"
   ]
  },
  {
   "cell_type": "markdown",
   "id": "a6769731",
   "metadata": {},
   "source": [
    "str.split(separator, max)"
   ]
  },
  {
   "cell_type": "code",
   "execution_count": 4,
   "id": "93911771",
   "metadata": {},
   "outputs": [
    {
     "data": {
      "text/plain": [
       "['You', 'can', 'have', 'tabs', 'and', 'newlines', 'mixed', 'in']"
      ]
     },
     "execution_count": 4,
     "metadata": {},
     "output_type": "execute_result"
    }
   ],
   "source": [
    "x = \"You\\t\\t can have tabs\\t\\n \\t and newlines \\n\\n\" \"mixed in\"\n",
    "x.split()"
   ]
  },
  {
   "cell_type": "code",
   "execution_count": 5,
   "id": "1a6c5924",
   "metadata": {},
   "outputs": [
    {
     "data": {
      "text/plain": [
       "['Mi', 'i', 'ippi']"
      ]
     },
     "execution_count": 5,
     "metadata": {},
     "output_type": "execute_result"
    }
   ],
   "source": [
    "x = \"Mississippi\"\n",
    "x.split(\"ss\")"
   ]
  },
  {
   "cell_type": "code",
   "execution_count": 6,
   "id": "31f181d3",
   "metadata": {},
   "outputs": [
    {
     "data": {
      "text/plain": [
       "['a', 'b c d']"
      ]
     },
     "execution_count": 6,
     "metadata": {},
     "output_type": "execute_result"
    }
   ],
   "source": [
    "x = \"a b c d\"\n",
    "x.split(\" \", 1)"
   ]
  },
  {
   "cell_type": "code",
   "execution_count": 7,
   "id": "a9931920",
   "metadata": {},
   "outputs": [
    {
     "data": {
      "text/plain": [
       "['a', 'b', 'c d']"
      ]
     },
     "execution_count": 7,
     "metadata": {},
     "output_type": "execute_result"
    }
   ],
   "source": [
    "x = \"a b c d\"\n",
    "x.split(\" \", 2)"
   ]
  },
  {
   "cell_type": "code",
   "execution_count": 8,
   "id": "ffd63a4a",
   "metadata": {},
   "outputs": [
    {
     "data": {
      "text/plain": [
       "['a', 'b', 'c', 'd']"
      ]
     },
     "execution_count": 8,
     "metadata": {},
     "output_type": "execute_result"
    }
   ],
   "source": [
    "x = \"a b c d\"\n",
    "x.split(\" \", 9)"
   ]
  },
  {
   "cell_type": "markdown",
   "id": "4598c450",
   "metadata": {},
   "source": [
    "用 int() 和 float() 函式將字串轉換為數字"
   ]
  },
  {
   "cell_type": "code",
   "execution_count": 9,
   "id": "84a142a6",
   "metadata": {},
   "outputs": [
    {
     "data": {
      "text/plain": [
       "123.456"
      ]
     },
     "execution_count": 9,
     "metadata": {},
     "output_type": "execute_result"
    }
   ],
   "source": [
    "float(\"123.456\")"
   ]
  },
  {
   "cell_type": "code",
   "execution_count": 10,
   "id": "258869a3",
   "metadata": {},
   "outputs": [
    {
     "ename": "ValueError",
     "evalue": "could not convert string to float: 'xxyy'",
     "output_type": "error",
     "traceback": [
      "\u001b[31m---------------------------------------------------------------------------\u001b[39m",
      "\u001b[31mValueError\u001b[39m                                Traceback (most recent call last)",
      "\u001b[36mCell\u001b[39m\u001b[36m \u001b[39m\u001b[32mIn[10]\u001b[39m\u001b[32m, line 1\u001b[39m\n\u001b[32m----> \u001b[39m\u001b[32m1\u001b[39m \u001b[38;5;28;43mfloat\u001b[39;49m\u001b[43m(\u001b[49m\u001b[33;43m\"\u001b[39;49m\u001b[33;43mxxyy\u001b[39;49m\u001b[33;43m\"\u001b[39;49m\u001b[43m)\u001b[49m\n",
      "\u001b[31mValueError\u001b[39m: could not convert string to float: 'xxyy'"
     ]
    }
   ],
   "source": [
    "float(\"xxyy\")"
   ]
  },
  {
   "cell_type": "code",
   "execution_count": 11,
   "id": "d5284ad4",
   "metadata": {},
   "outputs": [
    {
     "data": {
      "text/plain": [
       "3333"
      ]
     },
     "execution_count": 11,
     "metadata": {},
     "output_type": "execute_result"
    }
   ],
   "source": [
    "int(\"3333\")"
   ]
  },
  {
   "cell_type": "code",
   "execution_count": 12,
   "id": "3fcbfc47",
   "metadata": {},
   "outputs": [
    {
     "ename": "ValueError",
     "evalue": "invalid literal for int() with base 10: '123.456'",
     "output_type": "error",
     "traceback": [
      "\u001b[31m---------------------------------------------------------------------------\u001b[39m",
      "\u001b[31mValueError\u001b[39m                                Traceback (most recent call last)",
      "\u001b[36mCell\u001b[39m\u001b[36m \u001b[39m\u001b[32mIn[12]\u001b[39m\u001b[32m, line 1\u001b[39m\n\u001b[32m----> \u001b[39m\u001b[32m1\u001b[39m \u001b[38;5;28;43mint\u001b[39;49m\u001b[43m(\u001b[49m\u001b[33;43m\"\u001b[39;49m\u001b[33;43m123.456\u001b[39;49m\u001b[33;43m\"\u001b[39;49m\u001b[43m)\u001b[49m\n",
      "\u001b[31mValueError\u001b[39m: invalid literal for int() with base 10: '123.456'"
     ]
    }
   ],
   "source": [
    "int(\"123.456\")"
   ]
  },
  {
   "cell_type": "code",
   "execution_count": 13,
   "id": "13c75ce0",
   "metadata": {},
   "outputs": [
    {
     "data": {
      "text/plain": [
       "4096"
      ]
     },
     "execution_count": 13,
     "metadata": {},
     "output_type": "execute_result"
    }
   ],
   "source": [
    "int(\"10000\", 8)"
   ]
  },
  {
   "cell_type": "code",
   "execution_count": 14,
   "id": "d219306e",
   "metadata": {},
   "outputs": [
    {
     "data": {
      "text/plain": [
       "5"
      ]
     },
     "execution_count": 14,
     "metadata": {},
     "output_type": "execute_result"
    }
   ],
   "source": [
    "int(\"101\", 2)"
   ]
  },
  {
   "cell_type": "code",
   "execution_count": 15,
   "id": "429e4e86",
   "metadata": {},
   "outputs": [
    {
     "data": {
      "text/plain": [
       "255"
      ]
     },
     "execution_count": 15,
     "metadata": {},
     "output_type": "execute_result"
    }
   ],
   "source": [
    "int(\"ff\", 16)"
   ]
  },
  {
   "cell_type": "code",
   "execution_count": 16,
   "id": "e73aacfb",
   "metadata": {},
   "outputs": [
    {
     "ename": "ValueError",
     "evalue": "invalid literal for int() with base 6: '123456'",
     "output_type": "error",
     "traceback": [
      "\u001b[31m---------------------------------------------------------------------------\u001b[39m",
      "\u001b[31mValueError\u001b[39m                                Traceback (most recent call last)",
      "\u001b[36mCell\u001b[39m\u001b[36m \u001b[39m\u001b[32mIn[16]\u001b[39m\u001b[32m, line 2\u001b[39m\n\u001b[32m      1\u001b[39m \u001b[38;5;66;03m# 無法使用 6 作為基底轉換，因為 6 進位不會有 6 這個位數\u001b[39;00m\n\u001b[32m----> \u001b[39m\u001b[32m2\u001b[39m \u001b[38;5;28;43mint\u001b[39;49m\u001b[43m(\u001b[49m\u001b[33;43m\"\u001b[39;49m\u001b[33;43m123456\u001b[39;49m\u001b[33;43m\"\u001b[39;49m\u001b[43m,\u001b[49m\u001b[43m \u001b[49m\u001b[32;43m6\u001b[39;49m\u001b[43m)\u001b[49m\n",
      "\u001b[31mValueError\u001b[39m: invalid literal for int() with base 6: '123456'"
     ]
    }
   ],
   "source": [
    "# 無法使用 6 作為基底轉換，因為 6 進位不會有 6 這個位數\n",
    "int(\"123456\", 6)"
   ]
  },
  {
   "cell_type": "markdown",
   "id": "849f9d72",
   "metadata": {},
   "source": [
    "用 strip() lstrip() rstrip() 移除字串開頭或是結尾多餘的空白"
   ]
  },
  {
   "cell_type": "code",
   "execution_count": 17,
   "id": "a0cfcff4",
   "metadata": {},
   "outputs": [
    {
     "data": {
      "text/plain": [
       "'Hello, World'"
      ]
     },
     "execution_count": 17,
     "metadata": {},
     "output_type": "execute_result"
    }
   ],
   "source": [
    "x = \" Hello, World\\t\\t \"\n",
    "x.strip()"
   ]
  },
  {
   "cell_type": "code",
   "execution_count": 18,
   "id": "c14eedc4",
   "metadata": {},
   "outputs": [
    {
     "data": {
      "text/plain": [
       "'Hello, World\\t\\t '"
      ]
     },
     "execution_count": 18,
     "metadata": {},
     "output_type": "execute_result"
    }
   ],
   "source": [
    "# 移除左邊的空白\n",
    "x.lstrip()"
   ]
  },
  {
   "cell_type": "code",
   "execution_count": 19,
   "id": "cdd8f863",
   "metadata": {},
   "outputs": [
    {
     "data": {
      "text/plain": [
       "' Hello, World'"
      ]
     },
     "execution_count": 19,
     "metadata": {},
     "output_type": "execute_result"
    }
   ],
   "source": [
    "# 移除右邊的空白\n",
    "x.rstrip()"
   ]
  },
  {
   "cell_type": "code",
   "execution_count": 20,
   "id": "f95d5c11",
   "metadata": {},
   "outputs": [
    {
     "data": {
      "text/plain": [
       "' \\t\\n\\r\\x0b\\x0c'"
      ]
     },
     "execution_count": 20,
     "metadata": {},
     "output_type": "execute_result"
    }
   ],
   "source": [
    "import string\n",
    "string.whitespace"
   ]
  },
  {
   "cell_type": "code",
   "execution_count": 21,
   "id": "8a5f34b5",
   "metadata": {},
   "outputs": [
    {
     "data": {
      "text/plain": [
       "' \\t\\n\\r\\x0b\\x0c'"
      ]
     },
     "execution_count": 21,
     "metadata": {},
     "output_type": "execute_result"
    }
   ],
   "source": [
    "\" \\t\\n\\r\\v\\f\""
   ]
  },
  {
   "cell_type": "code",
   "execution_count": 22,
   "id": "8c6202a3",
   "metadata": {},
   "outputs": [],
   "source": [
    "x = \"www.python.org\""
   ]
  },
  {
   "cell_type": "code",
   "execution_count": 23,
   "id": "15cfdf8c",
   "metadata": {},
   "outputs": [
    {
     "data": {
      "text/plain": [
       "'.python.org'"
      ]
     },
     "execution_count": 23,
     "metadata": {},
     "output_type": "execute_result"
    }
   ],
   "source": [
    "# 移除所有 w 字元\n",
    "x.strip(\"w\")"
   ]
  },
  {
   "cell_type": "code",
   "execution_count": 24,
   "id": "0576e011",
   "metadata": {},
   "outputs": [
    {
     "data": {
      "text/plain": [
       "'www.python.'"
      ]
     },
     "execution_count": 24,
     "metadata": {},
     "output_type": "execute_result"
    }
   ],
   "source": [
    "# 移除所有 g, o, r 字元\n",
    "x.strip(\"gor\")"
   ]
  },
  {
   "cell_type": "code",
   "execution_count": 25,
   "id": "f7b472d7",
   "metadata": {},
   "outputs": [
    {
     "data": {
      "text/plain": [
       "'python'"
      ]
     },
     "execution_count": 25,
     "metadata": {},
     "output_type": "execute_result"
    }
   ],
   "source": [
    "# 移除所有 ., g, o, r, w 字元\n",
    "x.strip(\".gorw\")"
   ]
  },
  {
   "cell_type": "markdown",
   "id": "0104c2af",
   "metadata": {},
   "source": [
    "isdigit() isalpha() islower() isupper() 和字串相關常數"
   ]
  },
  {
   "cell_type": "code",
   "execution_count": 26,
   "id": "7835ae54",
   "metadata": {},
   "outputs": [],
   "source": [
    "x = \"123\""
   ]
  },
  {
   "cell_type": "code",
   "execution_count": 27,
   "id": "9473d16e",
   "metadata": {},
   "outputs": [
    {
     "data": {
      "text/plain": [
       "True"
      ]
     },
     "execution_count": 27,
     "metadata": {},
     "output_type": "execute_result"
    }
   ],
   "source": [
    "# 字串是否由數字組成\n",
    "x.isdigit()"
   ]
  },
  {
   "cell_type": "code",
   "execution_count": 28,
   "id": "3a7f5986",
   "metadata": {},
   "outputs": [
    {
     "data": {
      "text/plain": [
       "False"
      ]
     },
     "execution_count": 28,
     "metadata": {},
     "output_type": "execute_result"
    }
   ],
   "source": [
    "# 字串是否由英文字母組成\n",
    "x.isalpha()"
   ]
  },
  {
   "cell_type": "code",
   "execution_count": 29,
   "id": "03619804",
   "metadata": {},
   "outputs": [],
   "source": [
    "x = \"MM\""
   ]
  },
  {
   "cell_type": "code",
   "execution_count": 30,
   "id": "89d094c1",
   "metadata": {},
   "outputs": [
    {
     "data": {
      "text/plain": [
       "False"
      ]
     },
     "execution_count": 30,
     "metadata": {},
     "output_type": "execute_result"
    }
   ],
   "source": [
    "# 字串是否全部小寫\n",
    "x.islower()"
   ]
  },
  {
   "cell_type": "code",
   "execution_count": 31,
   "id": "17081dba",
   "metadata": {},
   "outputs": [
    {
     "data": {
      "text/plain": [
       "True"
      ]
     },
     "execution_count": 31,
     "metadata": {},
     "output_type": "execute_result"
    }
   ],
   "source": [
    "# 字串是否全部大寫\n",
    "x.isupper()"
   ]
  }
 ],
 "metadata": {
  "kernelspec": {
   "display_name": "python-practice",
   "language": "python",
   "name": "python3"
  },
  "language_info": {
   "codemirror_mode": {
    "name": "ipython",
    "version": 3
   },
   "file_extension": ".py",
   "mimetype": "text/x-python",
   "name": "python",
   "nbconvert_exporter": "python",
   "pygments_lexer": "ipython3",
   "version": "3.12.3"
  }
 },
 "nbformat": 4,
 "nbformat_minor": 5
}
