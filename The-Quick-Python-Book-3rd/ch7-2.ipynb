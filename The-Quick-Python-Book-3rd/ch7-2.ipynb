{
 "cells": [
  {
   "cell_type": "markdown",
   "id": "38b861d1",
   "metadata": {},
   "source": [
    "其他字典操作\n",
    "==="
   ]
  },
  {
   "cell_type": "code",
   "execution_count": 1,
   "id": "b689cf35",
   "metadata": {},
   "outputs": [
    {
     "data": {
      "text/plain": [
       "3"
      ]
     },
     "execution_count": 1,
     "metadata": {},
     "output_type": "execute_result"
    }
   ],
   "source": [
    "english_to_french = {\"red\":\"rouge\", \"blue\":\"bleu\", \"green\":\"vert\"}\n",
    "len(english_to_french)"
   ]
  },
  {
   "cell_type": "markdown",
   "id": "967d393b",
   "metadata": {},
   "source": [
    "keys(), values(), items() method"
   ]
  },
  {
   "cell_type": "code",
   "execution_count": 2,
   "id": "1b96a134",
   "metadata": {},
   "outputs": [
    {
     "data": {
      "text/plain": [
       "['red', 'blue', 'green']"
      ]
     },
     "execution_count": 2,
     "metadata": {},
     "output_type": "execute_result"
    }
   ],
   "source": [
    "# 取得字典所有的鍵，然後轉換成 list\n",
    "list(english_to_french.keys())"
   ]
  },
  {
   "cell_type": "code",
   "execution_count": 3,
   "id": "37982111",
   "metadata": {},
   "outputs": [
    {
     "data": {
      "text/plain": [
       "['rouge', 'bleu', 'vert']"
      ]
     },
     "execution_count": 3,
     "metadata": {},
     "output_type": "execute_result"
    }
   ],
   "source": [
    "# 取得字典所有的值，然後轉換成 list\n",
    "list(english_to_french.values())"
   ]
  },
  {
   "cell_type": "code",
   "execution_count": 4,
   "id": "8949667f",
   "metadata": {},
   "outputs": [
    {
     "data": {
      "text/plain": [
       "[('red', 'rouge'), ('blue', 'bleu'), ('green', 'vert')]"
      ]
     },
     "execution_count": 4,
     "metadata": {},
     "output_type": "execute_result"
    }
   ],
   "source": [
    "# 取得字典所有的鍵與值，然後轉換成 list\n",
    "list(english_to_french.items())"
   ]
  },
  {
   "cell_type": "markdown",
   "id": "fdc4366b",
   "metadata": {},
   "source": [
    "get() 和 setdefault() method"
   ]
  },
  {
   "cell_type": "code",
   "execution_count": 5,
   "id": "7c0ad4ec",
   "metadata": {},
   "outputs": [
    {
     "data": {
      "text/plain": [
       "[('red', 'rouge'), ('blue', 'bleu')]"
      ]
     },
     "execution_count": 5,
     "metadata": {},
     "output_type": "execute_result"
    }
   ],
   "source": [
    "# 刪除字典中的項目\n",
    "del english_to_french[\"green\"]\n",
    "list(english_to_french.items())"
   ]
  },
  {
   "cell_type": "code",
   "execution_count": 6,
   "id": "91ba216b",
   "metadata": {},
   "outputs": [
    {
     "data": {
      "text/plain": [
       "True"
      ]
     },
     "execution_count": 6,
     "metadata": {},
     "output_type": "execute_result"
    }
   ],
   "source": [
    "\"red\" in english_to_french"
   ]
  },
  {
   "cell_type": "code",
   "execution_count": 7,
   "id": "4fb74ee1",
   "metadata": {},
   "outputs": [
    {
     "data": {
      "text/plain": [
       "False"
      ]
     },
     "execution_count": 7,
     "metadata": {},
     "output_type": "execute_result"
    }
   ],
   "source": [
    "\"orange\" in english_to_french"
   ]
  },
  {
   "cell_type": "code",
   "execution_count": 8,
   "id": "0c5df866",
   "metadata": {},
   "outputs": [
    {
     "data": {
      "text/plain": [
       "'bleu'"
      ]
     },
     "execution_count": 8,
     "metadata": {},
     "output_type": "execute_result"
    }
   ],
   "source": [
    "english_to_french.get(\"blue\", \"No translation\")"
   ]
  },
  {
   "cell_type": "code",
   "execution_count": 9,
   "id": "57daeb80",
   "metadata": {},
   "outputs": [
    {
     "data": {
      "text/plain": [
       "'No translation'"
      ]
     },
     "execution_count": 9,
     "metadata": {},
     "output_type": "execute_result"
    }
   ],
   "source": [
    "english_to_french.get(\"chartreuse\", \"No translation\")"
   ]
  },
  {
   "cell_type": "code",
   "execution_count": 10,
   "id": "7261ca9a",
   "metadata": {},
   "outputs": [
    {
     "data": {
      "text/plain": [
       "{'red': 'rouge', 'blue': 'bleu'}"
      ]
     },
     "execution_count": 10,
     "metadata": {},
     "output_type": "execute_result"
    }
   ],
   "source": [
    "english_to_french"
   ]
  },
  {
   "cell_type": "code",
   "execution_count": 11,
   "id": "f1ba1b0e",
   "metadata": {},
   "outputs": [
    {
     "data": {
      "text/plain": [
       "'No translation'"
      ]
     },
     "execution_count": 11,
     "metadata": {},
     "output_type": "execute_result"
    }
   ],
   "source": [
    "english_to_french.setdefault(\"chartreuse\", \"No translation\")"
   ]
  },
  {
   "cell_type": "code",
   "execution_count": 12,
   "id": "73144fe3",
   "metadata": {},
   "outputs": [
    {
     "data": {
      "text/plain": [
       "{'red': 'rouge', 'blue': 'bleu', 'chartreuse': 'No translation'}"
      ]
     },
     "execution_count": 12,
     "metadata": {},
     "output_type": "execute_result"
    }
   ],
   "source": [
    "english_to_french"
   ]
  },
  {
   "cell_type": "markdown",
   "id": "b48d09bf",
   "metadata": {},
   "source": [
    "copy(), update() method"
   ]
  },
  {
   "cell_type": "code",
   "execution_count": 13,
   "id": "bf1a9356",
   "metadata": {},
   "outputs": [
    {
     "data": {
      "text/plain": [
       "{0: 'zero', 1: 'one'}"
      ]
     },
     "execution_count": 13,
     "metadata": {},
     "output_type": "execute_result"
    }
   ],
   "source": [
    "x = {0: \"zero\", 1:\"one\"}\n",
    "y = x.copy()\n",
    "y"
   ]
  },
  {
   "cell_type": "code",
   "execution_count": 14,
   "id": "a97e28a9",
   "metadata": {},
   "outputs": [
    {
     "data": {
      "text/plain": [
       "{0: 'zero', 1: 'ONE', 2: 'TWO'}"
      ]
     },
     "execution_count": 14,
     "metadata": {},
     "output_type": "execute_result"
    }
   ],
   "source": [
    "z = {1: \"ONE\", 2:\"TWO\"}\n",
    "x = {0: \"zero\", 1:\"one\"}\n",
    "x.update(z)\n",
    "x"
   ]
  }
 ],
 "metadata": {
  "kernelspec": {
   "display_name": "python-practice",
   "language": "python",
   "name": "python3"
  },
  "language_info": {
   "codemirror_mode": {
    "name": "ipython",
    "version": 3
   },
   "file_extension": ".py",
   "mimetype": "text/x-python",
   "name": "python",
   "nbconvert_exporter": "python",
   "pygments_lexer": "ipython3",
   "version": "3.12.3"
  }
 },
 "nbformat": 4,
 "nbformat_minor": 5
}
