{
 "cells": [
  {
   "cell_type": "markdown",
   "id": "6c306800",
   "metadata": {},
   "source": [
    "使用 print() 控制字串輸出\n",
    "==="
   ]
  },
  {
   "cell_type": "code",
   "execution_count": 1,
   "id": "77d029a3",
   "metadata": {},
   "outputs": [
    {
     "name": "stdout",
     "output_type": "stream",
     "text": [
      "a\n",
      "1\n",
      "a b c\n",
      "a|b|c\n",
      "a b c\n",
      "\n"
     ]
    }
   ],
   "source": [
    "print(\"a\")\n",
    "print(1)\n",
    "print(\"a\", \"b\", \"c\")\n",
    "print(\"a\", \"b\", \"c\", sep=\"|\")\n",
    "print(\"a\", \"b\", \"c\", end=\"\\n\\n\")"
   ]
  }
 ],
 "metadata": {
  "kernelspec": {
   "display_name": "python-practice",
   "language": "python",
   "name": "python3"
  },
  "language_info": {
   "codemirror_mode": {
    "name": "ipython",
    "version": 3
   },
   "file_extension": ".py",
   "mimetype": "text/x-python",
   "name": "python",
   "nbconvert_exporter": "python",
   "pygments_lexer": "ipython3",
   "version": "3.12.3"
  }
 },
 "nbformat": 4,
 "nbformat_minor": 5
}
