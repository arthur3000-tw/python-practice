{
 "cells": [
  {
   "cell_type": "markdown",
   "id": "94fe9796",
   "metadata": {},
   "source": [
    "list（串列）\n",
    "===\n",
    "len(): 取得 list 元素的個數\n",
    "\n",
    "只會計算 list 第一層的元素個數"
   ]
  },
  {
   "cell_type": "code",
   "execution_count": 1,
   "id": "fd36e42e",
   "metadata": {},
   "outputs": [
    {
     "data": {
      "text/plain": [
       "3"
      ]
     },
     "execution_count": 1,
     "metadata": {},
     "output_type": "execute_result"
    }
   ],
   "source": [
    "x = [2, \"two\", [1,2,3]]\n",
    "len(x)"
   ]
  },
  {
   "cell_type": "markdown",
   "id": "10cb2350",
   "metadata": {},
   "source": [
    "list 的索引與切片\n",
    "===\n",
    "list 的索引（index）"
   ]
  },
  {
   "cell_type": "code",
   "execution_count": 2,
   "id": "e0aa59d7",
   "metadata": {},
   "outputs": [],
   "source": [
    "x = [\"first\", \"second\", \"third\", \"fourth\"]"
   ]
  },
  {
   "cell_type": "code",
   "execution_count": 3,
   "id": "33b97779",
   "metadata": {},
   "outputs": [
    {
     "data": {
      "text/plain": [
       "'first'"
      ]
     },
     "execution_count": 3,
     "metadata": {},
     "output_type": "execute_result"
    }
   ],
   "source": [
    "x[0]"
   ]
  },
  {
   "cell_type": "code",
   "execution_count": 4,
   "id": "4087a876",
   "metadata": {},
   "outputs": [
    {
     "data": {
      "text/plain": [
       "'third'"
      ]
     },
     "execution_count": 4,
     "metadata": {},
     "output_type": "execute_result"
    }
   ],
   "source": [
    "x[2]"
   ]
  },
  {
   "cell_type": "markdown",
   "id": "dcd3d48d",
   "metadata": {},
   "source": [
    "list 的切片（slice）\n",
    "===\n",
    "Python 可以一次指定 list 中多個元素，稱為切片（slicing）\n",
    "\n",
    "用 [index1:index2] 可以指定 index1 到 index2 之間（不包括 index2）的元素\n",
    "\n",
    "| x=[ |  | \"first\", |  | \"second\", |  | \"third\", |  | \"fourth\" |  | ] |\n",
    "| :--: | :--: | :--: | :--: | :--: | :--: | :--: | :--: | :--: | :--: | :--: |\n",
    "| 索引值為正 | 0 |  | 1 |  | 2 |  | 3 |  |  |\n",
    "| 索引值為負 |  |  | -4 |  | -3 |  | -2 |  | -1 |"
   ]
  },
  {
   "cell_type": "code",
   "execution_count": 5,
   "id": "b4d69c48",
   "metadata": {},
   "outputs": [],
   "source": [
    "x = [\"first\", \"second\", \"third\", \"fourth\"]"
   ]
  },
  {
   "cell_type": "code",
   "execution_count": 6,
   "id": "0aa9e7c6",
   "metadata": {},
   "outputs": [
    {
     "data": {
      "text/plain": [
       "['first', 'second', 'third']"
      ]
     },
     "execution_count": 6,
     "metadata": {},
     "output_type": "execute_result"
    }
   ],
   "source": [
    "x[0:3]"
   ]
  },
  {
   "cell_type": "code",
   "execution_count": 7,
   "id": "87365de7",
   "metadata": {},
   "outputs": [
    {
     "data": {
      "text/plain": [
       "['second', 'third']"
      ]
     },
     "execution_count": 7,
     "metadata": {},
     "output_type": "execute_result"
    }
   ],
   "source": [
    "x[1:3]"
   ]
  },
  {
   "cell_type": "code",
   "execution_count": 8,
   "id": "5a633315",
   "metadata": {},
   "outputs": [
    {
     "data": {
      "text/plain": [
       "['second', 'third']"
      ]
     },
     "execution_count": 8,
     "metadata": {},
     "output_type": "execute_result"
    }
   ],
   "source": [
    "x[1:-1]"
   ]
  },
  {
   "cell_type": "code",
   "execution_count": 9,
   "id": "fc646f05",
   "metadata": {},
   "outputs": [
    {
     "data": {
      "text/plain": [
       "['third']"
      ]
     },
     "execution_count": 9,
     "metadata": {},
     "output_type": "execute_result"
    }
   ],
   "source": [
    "x[-2:-1]"
   ]
  },
  {
   "cell_type": "code",
   "execution_count": 10,
   "id": "7d880e0b",
   "metadata": {},
   "outputs": [
    {
     "data": {
      "text/plain": [
       "[]"
      ]
     },
     "execution_count": 10,
     "metadata": {},
     "output_type": "execute_result"
    }
   ],
   "source": [
    "x[-1:-2]"
   ]
  },
  {
   "cell_type": "code",
   "execution_count": 11,
   "id": "96bce3ca",
   "metadata": {},
   "outputs": [
    {
     "data": {
      "text/plain": [
       "['first', 'second', 'third']"
      ]
     },
     "execution_count": 11,
     "metadata": {},
     "output_type": "execute_result"
    }
   ],
   "source": [
    "x[:3]"
   ]
  },
  {
   "cell_type": "code",
   "execution_count": 12,
   "id": "5720d970",
   "metadata": {},
   "outputs": [
    {
     "data": {
      "text/plain": [
       "['third', 'fourth']"
      ]
     },
     "execution_count": 12,
     "metadata": {},
     "output_type": "execute_result"
    }
   ],
   "source": [
    "x[2:]"
   ]
  },
  {
   "cell_type": "code",
   "execution_count": 13,
   "id": "0d0740ae",
   "metadata": {},
   "outputs": [
    {
     "data": {
      "text/plain": [
       "['1 st', 'second', 'third', 'fourth']"
      ]
     },
     "execution_count": 13,
     "metadata": {},
     "output_type": "execute_result"
    }
   ],
   "source": [
    "# 複製整個 x，產生新的 list，命名為 y\n",
    "y = x[:]\n",
    "# 將 y 的第一個元素修改\n",
    "y[0] = \"1 st\"\n",
    "y"
   ]
  },
  {
   "cell_type": "code",
   "execution_count": 14,
   "id": "10146b71",
   "metadata": {},
   "outputs": [
    {
     "data": {
      "text/plain": [
       "['first', 'second', 'third', 'fourth']"
      ]
     },
     "execution_count": 14,
     "metadata": {},
     "output_type": "execute_result"
    }
   ],
   "source": [
    "# 修改 y 不會影響 x\n",
    "x"
   ]
  },
  {
   "cell_type": "code",
   "execution_count": 15,
   "id": "1d4cd23a",
   "metadata": {},
   "outputs": [
    {
     "data": {
      "text/plain": [
       "['first', 'second', 'third', 'fourth']"
      ]
     },
     "execution_count": 15,
     "metadata": {},
     "output_type": "execute_result"
    }
   ],
   "source": [
    "# 重新設定 y 參照 x 所參照的 list 物件\n",
    "y = x\n",
    "y"
   ]
  },
  {
   "cell_type": "code",
   "execution_count": 16,
   "id": "79b58b2e",
   "metadata": {},
   "outputs": [
    {
     "data": {
      "text/plain": [
       "['1 st', 'second', 'third', 'fourth']"
      ]
     },
     "execution_count": 16,
     "metadata": {},
     "output_type": "execute_result"
    }
   ],
   "source": [
    "# 將 y 的第一個元素修改\n",
    "y[0] = \"1 st\"\n",
    "y"
   ]
  },
  {
   "cell_type": "code",
   "execution_count": 17,
   "id": "b386b787",
   "metadata": {},
   "outputs": [
    {
     "data": {
      "text/plain": [
       "['1 st', 'second', 'third', 'fourth']"
      ]
     },
     "execution_count": 17,
     "metadata": {},
     "output_type": "execute_result"
    }
   ],
   "source": [
    "# x 被影響了！\n",
    "x"
   ]
  },
  {
   "cell_type": "markdown",
   "id": "dd90640c",
   "metadata": {},
   "source": [
    "一些技巧\n",
    "==="
   ]
  },
  {
   "cell_type": "code",
   "execution_count": 18,
   "id": "0744e20d",
   "metadata": {},
   "outputs": [],
   "source": [
    "x =[1, 2, 3, 4]"
   ]
  },
  {
   "cell_type": "code",
   "execution_count": 19,
   "id": "c80f20e0",
   "metadata": {},
   "outputs": [
    {
     "data": {
      "text/plain": [
       "[1, 2, 3, 4, 5, 6, 7]"
      ]
     },
     "execution_count": 19,
     "metadata": {},
     "output_type": "execute_result"
    }
   ],
   "source": [
    "# 在 list 最後面附加多個值\n",
    "x[len(x):] = [5, 6, 7]\n",
    "x"
   ]
  },
  {
   "cell_type": "code",
   "execution_count": 20,
   "id": "65ca083f",
   "metadata": {},
   "outputs": [
    {
     "data": {
      "text/plain": [
       "[-1, 0, 1, 2, 3, 4, 5, 6, 7]"
      ]
     },
     "execution_count": 20,
     "metadata": {},
     "output_type": "execute_result"
    }
   ],
   "source": [
    "# 在 list 最前面插入多個值\n",
    "x[:0] = [-1, 0]\n",
    "x"
   ]
  },
  {
   "cell_type": "code",
   "execution_count": 21,
   "id": "61649a46",
   "metadata": {},
   "outputs": [
    {
     "data": {
      "text/plain": [
       "[-1, 7]"
      ]
     },
     "execution_count": 21,
     "metadata": {},
     "output_type": "execute_result"
    }
   ],
   "source": [
    "# 移除 list 中多個元素\n",
    "x[1:-1] = []\n",
    "x"
   ]
  }
 ],
 "metadata": {
  "kernelspec": {
   "display_name": "python-practice",
   "language": "python",
   "name": "python3"
  },
  "language_info": {
   "codemirror_mode": {
    "name": "ipython",
    "version": 3
   },
   "file_extension": ".py",
   "mimetype": "text/x-python",
   "name": "python",
   "nbconvert_exporter": "python",
   "pygments_lexer": "ipython3",
   "version": "3.12.3"
  }
 },
 "nbformat": 4,
 "nbformat_minor": 5
}
